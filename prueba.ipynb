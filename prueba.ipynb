{
 "cells": [
  {
   "cell_type": "code",
   "execution_count": 1,
   "metadata": {},
   "outputs": [],
   "source": [
    "from selenium import webdriver\n",
    "from selenium.webdriver.common.by import By\n",
    "from selenium.webdriver.chrome.options import Options\n",
    "from selenium.webdriver.common.action_chains import ActionChains\n",
    "from selenium.common.exceptions import NoSuchElementException\n",
    "from selenium.webdriver.chrome.service import Service\n",
    "from webdriver_manager.chrome import ChromeDriverManager\n",
    "from selenium.common.exceptions import TimeoutException\n",
    "from selenium.webdriver.support import expected_conditions as EC\n",
    "from selenium.webdriver.support.ui import WebDriverWait\n",
    "from selenium.webdriver.common.keys import Keys\n",
    "import time"
   ]
  },
  {
   "cell_type": "code",
   "execution_count": 2,
   "metadata": {},
   "outputs": [],
   "source": [
    "import os\n",
    "import time\n",
    "import shutil\n",
    "import random\n",
    "import pandas as pd\n",
    "from datetime import date"
   ]
  },
  {
   "cell_type": "code",
   "execution_count": null,
   "metadata": {},
   "outputs": [],
   "source": [
    "def timing_val(func):\n",
    "    def wrapper(*arg, **kw):\n",
    "        '''source: http://www.daniweb.com/code/snippet368.html'''\n",
    "        t1 = time.time()\n",
    "        func(*arg, **kw)\n",
    "        t2 = time.time()\n",
    "        segs = int(t2 - t1)\n",
    "        return f\"tardó {segs} segs...\"\n",
    "    return wrapper\n"
   ]
  },
  {
   "cell_type": "code",
   "execution_count": null,
   "metadata": {},
   "outputs": [],
   "source": [
    "def delete_files_from_dir(dir:str):\n",
    "    print(f\"Borrando el directorio: {dir}\")\n",
    "    for root, dirs, files in os.walk(dir):\n",
    "        for f in files:\n",
    "            os.unlink(os.path.join(root, f))\n",
    "        for d in dirs:\n",
    "            shutil.rmtree(os.path.join(root, d))"
   ]
  },
  {
   "cell_type": "code",
   "execution_count": null,
   "metadata": {},
   "outputs": [],
   "source": [
    "def download_wait(directory:str, timeout:int, prefix:str, nfiles:int=1):\n",
    "    \"\"\"\n",
    "    Wait for downloads to finish with a specified timeout.\n",
    "\n",
    "    Args\n",
    "    ----\n",
    "    directory : str\n",
    "        The path to the folder where the files will be downloaded.\n",
    "    timeout : int\n",
    "        How many seconds to wait until timing out.\n",
    "    nfiles : int, defaults to None\n",
    "        If provided, also wait for the expected number of files.\n",
    "\n",
    "    \"\"\"\n",
    "\n",
    "    def rename_files(prefix:str, dir:str):\n",
    "        for filename in os.listdir(dir):\n",
    "            new_filename = f\"{prefix}_{filename}\"\n",
    "            new_filename = new_filename.replace(\" \",\"_\").strip()\n",
    "            os.rename(dir+\"/\"+filename, dir+\"/\"+new_filename)\n",
    "\n",
    "    print(\"Esperando descarga\")\n",
    "\n",
    "    seconds = 0\n",
    "    dl_wait = True\n",
    "    while dl_wait and seconds < timeout:\n",
    "        time.sleep(1)\n",
    "        dl_wait = False\n",
    "        files = os.listdir(directory)\n",
    "        if len(files) < nfiles:\n",
    "            dl_wait = True\n",
    "\n",
    "        for fname in files:\n",
    "            if fname.endswith('.crdownload'):\n",
    "                dl_wait = True\n",
    "\n",
    "        seconds += 1\n",
    "\n",
    "    if seconds >= timeout:\n",
    "        print(\"Error esperando descarga, se superó el tiempo de espera.\")\n",
    "        delete_files_from_dir(\"./temp\")\n",
    "    else:\n",
    "        print(\"Archivo descargado\")\n",
    "        if seconds < 15:\n",
    "            time.sleep( random.randint(3, 6) )\n",
    "\n",
    "        print(\"Renombrando archivo\")\n",
    "        rename_files(prefix, directory)\n",
    "        time.sleep(5)\n",
    "        print(f\"Subiendo Archivos\")\n",
    "        #Subir_File(AQUI DEBE IR LA FUNCIÓN QUE SUBE LOS ARCHIVOS)\n",
    "\n",
    "        delete_files_from_dir(\"./temp\")\n"
   ]
  },
  {
   "cell_type": "code",
   "execution_count": null,
   "metadata": {},
   "outputs": [],
   "source": [
    "\n",
    "download_wait(directory=\"./temp\", timeout=3)"
   ]
  },
  {
   "cell_type": "code",
   "execution_count": null,
   "metadata": {},
   "outputs": [],
   "source": [
    "delete_files_from_dir(\"./temp\")"
   ]
  },
  {
   "cell_type": "code",
   "execution_count": null,
   "metadata": {},
   "outputs": [],
   "source": [
    "os.listdir(\"./temp\")"
   ]
  },
  {
   "cell_type": "code",
   "execution_count": null,
   "metadata": {},
   "outputs": [],
   "source": [
    "options = webdriver.ChromeOptions()\n",
    "#options.add_argument('headless')\n",
    "#options.add_argument(\"--headless\")\n",
    "prefs = {'download.default_directory' : './temp/anexos/'}\n",
    "options.add_experimental_option('prefs', prefs)\n",
    "options.add_argument(\"--window-size=1024,768\")\n",
    "options.add_argument(\"--no-sandbox\")\n",
    "options.add_argument(\"start-maximized\")\n",
    "options.add_argument(\"--disable-infobars\")"
   ]
  },
  {
   "cell_type": "code",
   "execution_count": null,
   "metadata": {},
   "outputs": [],
   "source": [
    "driver = webdriver.Chrome(options=options,\n",
    "            service=Service(executable_path=ChromeDriverManager().install()),\n",
    "        )"
   ]
  },
  {
   "cell_type": "code",
   "execution_count": null,
   "metadata": {},
   "outputs": [],
   "source": [
    "driver.get(\"https://upcp-compranet.hacienda.gob.mx/sitiopublico/#/\")"
   ]
  },
  {
   "cell_type": "code",
   "execution_count": null,
   "metadata": {},
   "outputs": [],
   "source": [
    "driver.find_element(By.XPATH,'//*[@name=\"proceso\"]').click()"
   ]
  },
  {
   "cell_type": "code",
   "execution_count": null,
   "metadata": {},
   "outputs": [],
   "source": [
    "driver.find_element(By.XPATH,'//*[text()=\"PROCEDIMIENTO DE CONTRATACIÓN\"]').click()"
   ]
  },
  {
   "cell_type": "code",
   "execution_count": null,
   "metadata": {},
   "outputs": [],
   "source": [
    "driver.find_element(By.XPATH,'//*[@name=\"ley\"]').click()"
   ]
  },
  {
   "cell_type": "code",
   "execution_count": null,
   "metadata": {},
   "outputs": [],
   "source": [
    "for i in range(0, 10):\n",
    "    next_page_btn = driver.find_element(By.XPATH,'//button[contains(@class,\"p-paginator-next\")]')\n",
    "    if \"p-disabled\" in next_page_btn.get_attribute(\"class\"):\n",
    "        print(\"Se acabaron las páginas disponibles\")\n",
    "        break\n",
    "    else:\n",
    "        ActionChains(driver).scroll_to_element(next_page_btn).pause(1).click().perform()\n",
    "\n",
    "\n"
   ]
  },
  {
   "cell_type": "code",
   "execution_count": null,
   "metadata": {},
   "outputs": [],
   "source": [
    "driver.find_element(By.XPATH,'//*[@name=\"contratacion\"]').click()"
   ]
  },
  {
   "cell_type": "code",
   "execution_count": null,
   "metadata": {},
   "outputs": [],
   "source": [
    "driver.find_element(By.XPATH,'//*[(text()=\"ADQUISICIONES\")]').click()"
   ]
  },
  {
   "cell_type": "code",
   "execution_count": null,
   "metadata": {},
   "outputs": [],
   "source": [
    "click = lambda xpath: driver.find_element(By.XPATH, xpath).click()"
   ]
  },
  {
   "cell_type": "code",
   "execution_count": null,
   "metadata": {},
   "outputs": [],
   "source": [
    "click('//*[@label=\"Filtros\"]/button')"
   ]
  },
  {
   "cell_type": "code",
   "execution_count": null,
   "metadata": {},
   "outputs": [],
   "source": [
    "click('//*[@name=\"claves\"]')"
   ]
  },
  {
   "cell_type": "code",
   "execution_count": null,
   "metadata": {},
   "outputs": [],
   "source": [
    "claves = [\"25401\",\"25301\",\"25501\",\"32401\",\"53101\",\"53201\"]"
   ]
  },
  {
   "cell_type": "code",
   "execution_count": null,
   "metadata": {},
   "outputs": [],
   "source": [
    "for clave in claves:\n",
    "    driver.find_element(By.XPATH,'//p-multiselect[@name=\"claves\"]//input[contains(@class,\"filter\")]').send_keys(clave)\n",
    "    time.sleep(2)\n",
    "    \n",
    "    click(f'//*[contains(text(),\"{clave}\")]')\n",
    "    time.sleep(2)\n",
    "    \n",
    "    driver.find_element(By.XPATH,'//p-multiselect[@name=\"claves\"]//input[contains(@class,\"filter\")]').clear()\n",
    "    time.sleep(1)\n",
    "    "
   ]
  },
  {
   "cell_type": "code",
   "execution_count": null,
   "metadata": {},
   "outputs": [],
   "source": [
    "click('//span[text()=\"Buscar\"]')"
   ]
  },
  {
   "cell_type": "code",
   "execution_count": null,
   "metadata": {},
   "outputs": [],
   "source": [
    "def esperar_carga_componenete(driver):\n",
    "    try:\n",
    "        WebDriverWait(driver, 5).until(EC.visibility_of_element_located((By.XPATH, '//div[@class=\"spinner\"]')))\n",
    "    except TimeoutException:\n",
    "        print(\"OJO, no apareció la leyenda de carga\")\n",
    "    try:\n",
    "        WebDriverWait(driver, 120).until(EC.invisibility_of_element_located((By.XPATH, '//div[@class=\"spinner\"]')))\n",
    "    except TimeoutException:\n",
    "        print(\"Error: No desaparece leyenda cargando\")\n",
    "    \n",
    "    time.sleep(1)"
   ]
  },
  {
   "cell_type": "code",
   "execution_count": null,
   "metadata": {},
   "outputs": [],
   "source": [
    "def duerme(a:int, b:int=0):\n",
    "    \"Sleeps for @a seconds, if b is given it'll sleep for a random between @a, @b\"\n",
    "    time_to_sleep = random.randint(a, b) if b else a\n",
    "    time.sleep(time_to_sleep)"
   ]
  },
  {
   "cell_type": "code",
   "execution_count": null,
   "metadata": {},
   "outputs": [],
   "source": [
    "for i in range(0, 10):\n",
    "    next_page_btn = driver.find_element(By.XPATH,'//button[contains(@class,\"p-paginator-next\")]')\n",
    "    if \"p-disabled\" in next_page_btn.get_attribute(\"class\"):\n",
    "        print(\"Se acabaron las páginas disponibles\")\n",
    "        break\n",
    "    else:\n",
    "        ActionChains(driver).scroll_to_element(next_page_btn)\\\n",
    "            .pause(1).click(next_page_btn).perform()\n",
    "        esperar_carga_componenete(driver)\n",
    "        duerme(2, 4)"
   ]
  },
  {
   "cell_type": "code",
   "execution_count": null,
   "metadata": {},
   "outputs": [],
   "source": [
    "import pandas as pd"
   ]
  },
  {
   "cell_type": "code",
   "execution_count": null,
   "metadata": {},
   "outputs": [],
   "source": [
    "df = pd.read_csv(\"concluidos.csv\", usecols = ['num_proc'])"
   ]
  },
  {
   "cell_type": "code",
   "execution_count": null,
   "metadata": {},
   "outputs": [],
   "source": [
    "df[df['num_proc'] == \"AA-50-GYR-050GYR016-I-79-2023\"] "
   ]
  },
  {
   "cell_type": "code",
   "execution_count": null,
   "metadata": {},
   "outputs": [],
   "source": [
    "df['num_proc'].str.contains(\"AA-50-GYR-050GYR016-I-79-2023\").any()"
   ]
  },
  {
   "cell_type": "code",
   "execution_count": null,
   "metadata": {},
   "outputs": [],
   "source": [
    "if df['num_proc'].str.contains(\"AA-50-GYR-050GYR016-I-79-2023\").any():\n",
    "    print(\"simon\")"
   ]
  },
  {
   "cell_type": "code",
   "execution_count": null,
   "metadata": {},
   "outputs": [],
   "source": [
    "rows = driver.find_elements(By.XPATH, '//td[@class=\"p-link2\"]')\n",
    "ops_found = len(rows)\n",
    "print(f\"se encontraron {ops_found} oportunidades en está página\")"
   ]
  },
  {
   "cell_type": "code",
   "execution_count": null,
   "metadata": {},
   "outputs": [],
   "source": [
    "rows = driver.find_elements(By.XPATH, '//td[@class=\"p-link2\"]')\n",
    "ops_found = len(rows)\n",
    "print(f\"se encontraron {ops_found} oportunidades en está página\")\n",
    "for i in range(0, ops_found):\n",
    "    rows = driver.find_elements(By.XPATH, '//td[@class=\"p-link2\"]')\n",
    "    rows[i].click()\n",
    "    esperar_carga_componenete(driver)\n",
    "\n",
    "    print(f\"Extrayendo inf de la oportunidad {i+1}\")\n",
    "    #Código del expediente\n",
    "    cod_exp = driver.find_element(By.XPATH, '//label[text()=\"Código del expediente:\"]/following-sibling::label').text\n",
    "    #Número de procedimiento de contratación\n",
    "    proc_cont = driver.find_element(By.XPATH, '//label[text()=\"Número de procedimiento de contratación:\"]/following-sibling::label').text\n",
    "    #Dependencia (SOLO TEXTO DESPUÉS DEL GUIÓN “-”)\n",
    "    dependencia = driver.find_element(By.XPATH, '//label[text()=\"Dependencia o Entidad:\"]/following-sibling::label').text\n",
    "    #Unidad Compradora (SOLO CÓDIGO IDENTIDICADOR)\n",
    "    unidad_comp = driver.find_element(By.XPATH, '//label[text()=\"Unidad compradora\"]/following-sibling::label').text\n",
    "    #Correo electrónico Unidad compradora\n",
    "    correo = driver.find_element(By.XPATH, '//label[text()=\"Correo electrónico unidad compradora:\"]/following-sibling::label').text\n",
    "    # Nombre del procedimiento de contratación\n",
    "    nombre_proceidmiento = driver.find_element(By.XPATH, '//label[text()=\"Nombre del procedimiento de contratación:\"]/following-sibling::label').text\n",
    "    # Tipo de procedimiento\n",
    "    tipo_proc = driver.find_element(By.XPATH, '//label[text()=\"Tipo de procedimiento de contratación:\"]/following-sibling::label').text\n",
    "    # Entidad Federativa\n",
    "    entidad_fed = driver.find_element(By.XPATH, '//label[text()=\"Entidad Federativa donde se llevará a cabo la contratación:\"]/following-sibling::label').text\n",
    "    # Año del ejercicio presupuestal\n",
    "    anio_ej = driver.find_element(By.XPATH, '//label[text()=\"Año del ejercicio presupuestal:\"]/following-sibling::label').text\n",
    "    # Procedimiento exclusivo para MiPymes\n",
    "    proc_exc = driver.find_element(By.XPATH, '//label[text()=\"Procedimiento exclusivo para MIPYMES:\"]/following-sibling::label').text\n",
    "    # Fecha y hora de publicación:\n",
    "    fecha_pub = driver.find_element(By.XPATH, '//label[text()=\"Fecha y hora de publicación:\"]/following-sibling::label').text\n",
    "    # Lista de Claves\n",
    "    claves_list = driver.find_elements(By.XPATH, '//th[text()=\"Clave\"]/ancestor::thead/following-sibling::tbody/tr/td[1]')\n",
    "    claves = \",\".join([i.text for i in claves])\n",
    "    # Participación de Testigo Social\n",
    "    part_testigo = driver.find_element(By.XPATH, '//label[text()=\"Participación de Testigo Social:\"]/following-sibling::label').text\n",
    "    # Abastecimiento simultaneo\n",
    "    abastecimiento_sim = driver.find_element(By.XPATH, '//label[text()=\"Abastecimiento simultáneo:\"]/following-sibling::label').text\n",
    "    # Plurianual\n",
    "    plurianual = driver.find_element(By.XPATH, '//label[text()=\"Es plurianual:\"]/following-sibling::label').text\n",
    "    # Tipo de contratación\n",
    "    tipo_cont = driver.find_element(By.XPATH, '//label[text()=\"Tipo de contratación:\"]/following-sibling::label').text\n",
    "    # Anticipo\n",
    "    anticipo = driver.find_element(By.XPATH, '//label[text()=\"Anticipo:\"]/following-sibling::label').text\n",
    "    # Forma de Pago\n",
    "    forma_pago = driver.find_element(By.XPATH, '//label[text()=\"Forma de pago:\"]/following-sibling::label').text\n",
    "    # Plazo para entrega de garantía\n",
    "    plazo_garant = driver.find_element(By.XPATH, '//label[text()=\"Plazo en días para entregar la garantía:\"]/following-sibling::label').text\n",
    "    # Número de meses para la garantía\n",
    "    meses_garant = driver.find_element(By.XPATH, '//label[text()=\"Número de meses que debe cumplir la garantía:\"]/following-sibling::label').text\n",
    "    # Carácter\n",
    "    caracter = driver.find_element(By.XPATH, '//label[text()=\"Carácter:\"]/following-sibling::label').text\n",
    "    # Caso fortuito o fuerza mayor\n",
    "    caso_fort  = driver.find_element(By.XPATH, '//label[text()=\"Caso fortuito o fuerza mayor:\"]/following-sibling::label').text\n",
    "    # Tipo de contrato abierto\n",
    "    tipo_cont_abierto = driver.find_element(By.XPATH, '//label[text()=\"Tipo de contrato abierto:\"]/following-sibling::label').text\n",
    "    \n",
    "    break\n",
    "    driver.back()\n",
    "    esperar_carga_componenete(driver)\n"
   ]
  },
  {
   "cell_type": "code",
   "execution_count": 6,
   "metadata": {},
   "outputs": [],
   "source": [
    "options = webdriver.ChromeOptions()\n",
    "prefs = {\n",
    "    \"download.default_directory\": r\"C:\\Users\\juan-\\Desktop\\CNET Scrapping 2024\\temp\\\\\",\n",
    "    \"download.directory_upgrade\": True,\n",
    "    \"download.prompt_for_download\": False,\n",
    "}\n",
    "options.add_experimental_option(\"prefs\", prefs)\n",
    "\n",
    "options.add_argument(\"--window-size=1024,768\")\n",
    "options.add_argument(\"--no-sandbox\")\n",
    "options.add_argument(\"start-maximized\")\n",
    "options.add_argument(\"--disable-infobars\")\n",
    "\n",
    "driver = webdriver.Chrome(options=options,\n",
    "            service=Service(executable_path=ChromeDriverManager().install()),\n",
    "        )"
   ]
  },
  {
   "cell_type": "code",
   "execution_count": 20,
   "metadata": {},
   "outputs": [],
   "source": [
    "driver.get(\"https://upcp-compranet.hacienda.gob.mx/sitiopublico/#/sitiopublico/detalle/44f3e1076b0c45f1bc739e00034f7115/procedimiento\")"
   ]
  },
  {
   "cell_type": "code",
   "execution_count": null,
   "metadata": {},
   "outputs": [],
   "source": [
    "prefix = cod_exp.rsplit(\"-\", 1)[1]\n",
    "for i in range(0, 10):\n",
    "    anexos = driver.find_elements(By.XPATH,'//*[@ptooltip=\"Descargar archivo\"]')\n",
    "    for anexo in anexos:\n",
    "        anexo.click()\n",
    "        download_wait(directory=\"./temp\", timeout=10, prefix=prefix)\n",
    "    \n",
    "    next_page_btn = driver.find_element(By.XPATH,'//*[@key=\"anexos\"]/following-sibling::div//button[contains(@class,\"p-paginator-next\")]')\n",
    "    if \"p-disabled\" in next_page_btn.get_attribute(\"class\"):\n",
    "        print(\"No hay más páginas de anexos disponibles\")\n",
    "        break\n",
    "    else:\n",
    "        ActionChains(driver).scroll_to_element(next_page_btn)\\\n",
    "            .pause(1).click(next_page_btn).perform()\n",
    "        esperar_carga_componenete(driver)\n",
    "        duerme(2, 4)"
   ]
  },
  {
   "cell_type": "code",
   "execution_count": null,
   "metadata": {},
   "outputs": [],
   "source": [
    "dir = \"./temp\"\n",
    "prefix = cod_exp.rsplit(\"-\", 1)[1]\n",
    "\n",
    "for filename in os.listdir(dir):\n",
    "    new_filename = f\"{prefix}_{filename}\"\n",
    "    new_filename = new_filename.replace(\" \",\"_\").strip()\n",
    "    os.rename(dir+\"/\"+filename, dir+\"/\"+new_filename)"
   ]
  },
  {
   "cell_type": "code",
   "execution_count": null,
   "metadata": {},
   "outputs": [],
   "source": [
    "def get_text_by_xpath(xp:str, required:bool=False, join:bool=False):\n",
    "    try:\n",
    "        if not join:\n",
    "            txt = driver.find_element(By.XPATH, xp).text\n",
    "        else:\n",
    "            finds = driver.find_elements(By.XPATH, xp)\n",
    "            txt = \",\".join([i.text for i in finds])\n",
    "\n",
    "        return txt\n",
    "    \n",
    "    except:\n",
    "        if required:\n",
    "            return False\n",
    "        else:\n",
    "            return \"\"\n",
    "    "
   ]
  },
  {
   "cell_type": "code",
   "execution_count": null,
   "metadata": {},
   "outputs": [],
   "source": [
    "#Código del expediente\n",
    "cod_exp = get_text_by_xpath(xp='//label[text()=\"Código del expediente:\"]/following-sibling::label', required=True)\n",
    "#Número de procedimiento de contratación\n",
    "num_proc = get_text_by_xpath(xp='//label[text()=\"Número de procedimiento de contratación:\"]/following-sibling::label', required=True)\n",
    "#Dependencia (SOLO TEXTO DESPUÉS DEL GUIÓN “-”)\n",
    "dependencia = get_text_by_xpath(xp='//label[text()=\"Dependencia o Entidad:\"]/following-sibling::label')\n",
    "#Unidad Compradora (SOLO CÓDIGO IDENTIDICADOR)\n",
    "unidad_comp = get_text_by_xpath(xp='//label[text()=\"Unidad compradora\"]/following-sibling::label')\n",
    "#Correo electrónico Unidad compradora\n",
    "correo = get_text_by_xpath(xp='//label[text()=\"Correo electrónico unidad compradora:\"]/following-sibling::label')\n",
    "# Nombre del procedimiento de contratación\n",
    "nombre_procedimiento = get_text_by_xpath(xp='//label[text()=\"Nombre del procedimiento de contratación:\"]/following-sibling::label')\n",
    "# Tipo de procedimiento\n",
    "tipo_proc = get_text_by_xpath(xp='//label[text()=\"Tipo de procedimiento de contratación:\"]/following-sibling::label')\n",
    "# Entidad Federativa\n",
    "entidad_fed = get_text_by_xpath(xp='//label[text()=\"Entidad Federativa donde se llevará a cabo la contratación:\"]/following-sibling::label')\n",
    "# Año del ejercicio presupuestal\n",
    "anio_ej = get_text_by_xpath(xp='//label[text()=\"Año del ejercicio presupuestal:\"]/following-sibling::label')\n",
    "# Procedimiento exclusivo para MiPymes\n",
    "proc_exc = get_text_by_xpath(xp='//label[text()=\"Procedimiento exclusivo para MIPYMES:\"]/following-sibling::label')\n",
    "# Fecha y hora de publicación:\n",
    "fecha_pub = get_text_by_xpath(xp='//label[text()=\"Fecha y hora de publicación:\"]/following-sibling::label')\n",
    "# Lista de Claves\n",
    "claves_list = get_text_by_xpath(xp='//th[text()=\"Clave\"]/ancestor::thead/following-sibling::tbody/tr/td[1]')\n",
    "# Participación de Testigo Social\n",
    "part_testigo = get_text_by_xpath(xp='//label[text()=\"Participación de Testigo Social:\"]/following-sibling::label')\n",
    "# Abastecimiento simultaneo\n",
    "abastecimiento_sim = get_text_by_xpath(xp='//label[text()=\"Abastecimiento simultáneo:\"]/following-sibling::label')\n",
    "# Plurianual\n",
    "plurianual = get_text_by_xpath(xp='//label[text()=\"Es plurianual:\"]/following-sibling::label')\n",
    "# Tipo de contratación\n",
    "tipo_cont = get_text_by_xpath(xp='//label[text()=\"Tipo de contratación:\"]/following-sibling::label')\n",
    "# Anticipo\n",
    "anticipo = get_text_by_xpath(xp='//label[text()=\"Anticipo:\"]/following-sibling::label')\n",
    "# Forma de Pago\n",
    "forma_pago = get_text_by_xpath(xp='//label[text()=\"Forma de pago:\"]/following-sibling::label')\n",
    "# Plazo para entrega de garantía\n",
    "plazo_garant = get_text_by_xpath(xp='//label[text()=\"Plazo en días para entregar la garantía:\"]/following-sibling::label')\n",
    "# Número de meses para la garantía\n",
    "meses_garant = get_text_by_xpath(xp='//label[text()=\"Número de meses que debe cumplir la garantía:\"]/following-sibling::label')\n",
    "#Garantía de cumplimiento\n",
    "garant_cump = get_text_by_xpath(xp='//label[text()=\"Garantía de cumplimiento:\"]/following-sibling::label')\n",
    "# Carácter\n",
    "caracter = get_text_by_xpath(xp='//label[text()=\"Carácter:\"]/following-sibling::label')\n",
    "# Caso fortuito o fuerza mayor\n",
    "caso_fort  = get_text_by_xpath(xp='//label[text()=\"Caso fortuito o fuerza mayor:\"]/following-sibling::label')\n",
    "# Tipo de contrato abierto\n",
    "tipo_cont_abierto = get_text_by_xpath(xp='//label[text()=\"Tipo de contrato abierto:\"]/following-sibling::label')\n",
    "#oportunnity url\n",
    "uri = driver.current_url"
   ]
  },
  {
   "cell_type": "code",
   "execution_count": 8,
   "metadata": {},
   "outputs": [],
   "source": [
    "import re"
   ]
  },
  {
   "cell_type": "code",
   "execution_count": 21,
   "metadata": {},
   "outputs": [
    {
     "data": {
      "text/plain": [
       "4"
      ]
     },
     "execution_count": 21,
     "metadata": {},
     "output_type": "execute_result"
    }
   ],
   "source": [
    "len(\n",
    "    driver.find_elements(By.XPATH, '//th[text()=\"Número de contrato\"]/ancestor::div[contains(@class,\"header\")]/following-sibling::div/table//tr')\n",
    ")"
   ]
  },
  {
   "cell_type": "code",
   "execution_count": 22,
   "metadata": {},
   "outputs": [
    {
     "data": {
      "text/plain": [
       "34"
      ]
     },
     "execution_count": 22,
     "metadata": {},
     "output_type": "execute_result"
    }
   ],
   "source": [
    "len(\n",
    "    driver.find_elements(By.XPATH, '//th[text()=\"Descripción CUCoP+\"]/ancestor::div[contains(@class,\"header\")]/following-sibling::div/table//tr')\n",
    ")"
   ]
  },
  {
   "cell_type": "code",
   "execution_count": 23,
   "metadata": {},
   "outputs": [],
   "source": [
    "economicos = driver.find_elements(By.XPATH, '//th[text()=\"Descripción CUCoP+\"]/ancestor::div[contains(@class,\"header\")]/following-sibling::div/table//tr')\n",
    "economicos_list = []\n",
    "for row_economic in economicos:\n",
    "    col = row_economic.find_elements(By.XPATH,\"./td\")\n",
    "    partida_esp = col[1].text\n",
    "    clave_cucop = col[2].text\n",
    "    desc_cucop = col[3].text\n",
    "    desc_det = col[4].text\n",
    "    unidades_medida = col[5].text\n",
    "    cantidad_solicitada = col[6].text\n",
    "    claves_compendio = re.findall(r\"\\d{3,4}.{1}\\d{3,4}.{1}\\d{3,4}\", desc_det)#CUCOP\n",
    "    clave_compendio = claves_compendio[0].replace(\" \",\".\") if len(claves_compendio)>0 else \"\"\n",
    "    \n",
    "    economicos_list.append({\n",
    "        \"Clave compendio\":clave_compendio, \"Codigo del expediente\":\"OJO\", \"Número del procedimiento o contratación\":\"OJO\",\n",
    "        \"Partida específica\":partida_esp, \"Clave CUCoP+\":clave_cucop, \"Descripción CUCoP+\": desc_cucop, \n",
    "        \"Descripción detallada\":desc_det, \"Unidad de medida\":unidades_medida, \"Cantidad solicitada\":cantidad_solicitada,\n",
    "        \"uri\":\"OJO\", \"scrapped_day\":\"OJO\"\n",
    "    })"
   ]
  },
  {
   "cell_type": "code",
   "execution_count": 24,
   "metadata": {},
   "outputs": [
    {
     "data": {
      "text/plain": [
       "34"
      ]
     },
     "execution_count": 24,
     "metadata": {},
     "output_type": "execute_result"
    }
   ],
   "source": [
    "len( economicos_list  )"
   ]
  },
  {
   "cell_type": "code",
   "execution_count": 25,
   "metadata": {},
   "outputs": [],
   "source": [
    "datos_cont_rows = driver.find_elements(By.XPATH, '//th[text()=\"Número de contrato\"]/ancestor::div[contains(@class,\"header\")]/following-sibling::div/table//tr')"
   ]
  },
  {
   "cell_type": "code",
   "execution_count": 29,
   "metadata": {},
   "outputs": [],
   "source": [
    "datos_relevantes_cont = []\n",
    "xp = '//th[text()=\"Número de contrato\"]/ancestor::div[contains(@class,\"header\")]/following-sibling::div/table//tr'\n",
    "datos_cont_rows = driver.find_elements(By.XPATH, xp )\n",
    "for dato in datos_cont_rows:\n",
    "    col = dato.find_elements(By.XPATH,\"./td\")\n",
    "    proveedor = col[1].text\n",
    "    num_cont = col[2].text\n",
    "    fecha_ini = col[5].text\n",
    "    fecha_fin = col[6].text\n",
    "    #titulo_cont = col[3].tex\n",
    "    \n",
    "    ActionChains(driver).scroll_to_element(col[2]).move_to_element(col[2])\\\n",
    "                        .pause(1).click().perform()\n",
    "    try:\n",
    "        xp = '//*[contains(text(),\"Código de contrato: \")]/parent::label/following-sibling::p-table'\n",
    "        WebDriverWait(driver, 90).until(EC.visibility_of_element_located((By.XPATH, xp)))\n",
    "    except TimeoutException:\n",
    "        print(f\"no cargó {num_cont}\")\n",
    "\n",
    "    #Obtiene las filas de la tabla de detalle(cada fila se dividide en dos columnas grandotas)\n",
    "    detalles = driver.find_elements(By.XPATH, \n",
    "        '//*[contains(text(),\"Código de contrato: \")]/parent::label/following-sibling::p-table//div[contains(@class,\"unfrozen\")]//tbody/tr')\n",
    "    detalles_p = driver.find_elements(By.XPATH, \n",
    "        '//*[contains(text(),\"Código de contrato: \")]/parent::label/following-sibling::p-table//div[contains(@class,\"-frozen\")]//tbody/tr')\n",
    "    for clave, detalle in zip(detalles_p, detalles):\n",
    "        col = clave.find_elements(By.XPATH,\"./td\")\n",
    "        clave_cucop = col[1].text\n",
    "\n",
    "        col = detalle.find_elements(By.XPATH,\"./td\")\n",
    "        desc_det = col[0].text\n",
    "        prec_unit_sin_impuestos = col[3].text\n",
    "        subtotal = col[4].text\n",
    "        total = col[7].text \n",
    "\n",
    "        claves_compendio = [i['Clave compendio'] for i in economicos_list if clave_cucop in i[\"Clave CUCoP+\"]]\n",
    "        clave_compendio = claves_compendio[0].replace(\" \",\".\") if len(claves_compendio)>0 else \"\"\n",
    "\n",
    "        datos_relevantes_cont.append({\n",
    "            \"Clave compendio\":clave_compendio\n",
    "        })\n",
    "\n",
    "    driver.find_element(By.XPATH,'//span[text()=\"Cerrar\"]').click()\n",
    "    time.sleep(3)"
   ]
  },
  {
   "cell_type": "code",
   "execution_count": 30,
   "metadata": {},
   "outputs": [
    {
     "data": {
      "text/plain": [
       "34"
      ]
     },
     "execution_count": 30,
     "metadata": {},
     "output_type": "execute_result"
    }
   ],
   "source": [
    "len(datos_relevantes_cont)"
   ]
  },
  {
   "cell_type": "code",
   "execution_count": null,
   "metadata": {},
   "outputs": [],
   "source": [
    "datos_cont_rows = driver.find_elements(By.XPATH, '//th[text()=\"Número de contrato\"]/ancestor::div[contains(@class,\"header\")]/following-sibling::div/table//tr')\n",
    "datos_relevantes_cont = []\n",
    "for dato in datos_cont_rows:\n",
    "    col = dato.find_elements(By.XPATH,\"./td\")\n",
    "    proveedor = col[1].text\n",
    "    num_cont = col[2].text\n",
    "    titulo_cont = col[3].text\n",
    "    fecha_ini = col[5].text\n",
    "    fecha_fin = col[6].text\n",
    "\n",
    "    col[2].click()\n",
    "    time.sleep(3)\n",
    "\n",
    "    #Obtiene las filas de la tabla de detalle(dividide cada fila en dos columnas grandotas)\n",
    "    detalles = driver.find_elements(By.XPATH, \n",
    "    '//*[contains(text(),\"Código de contrato: \")]/parent::label/following-sibling::p-table//div[contains(@class,\"unfrozen\")]//tbody/tr')\n",
    "    detalles_p = driver.find_elements(By.XPATH, \n",
    "    '//*[contains(text(),\"Código de contrato: \")]/parent::label/following-sibling::p-table//div[contains(@class,\"-frozen\")]//tbody/tr')\n",
    "    for clave, detalle in zip(detalles_p, detalles):\n",
    "        col = clave.find_elements(By.XPATH,\"./td\")\n",
    "        clave_cucop = col[1].text\n",
    "        col = detalle.find_elements(By.XPATH,\"./td\")\n",
    "        desc_det = col[0].text\n",
    "        prec_unit_sin_impuestos = col[3].text\n",
    "        subtotal = col[4].text\n",
    "        total = col[7].text \n",
    "\n",
    "        clave_compendio = [i['Clave compendio'] for i in economicos_list if clave_cucop in i[\"Clave CUCoP+\"]]\n",
    "\n",
    "        datos_relevantes_cont.append({\n",
    "            \"Clave compendio\":clave_compendio, \"Clave Cucop\":clave_cucop, \"Descripción detallada\":desc_det,\n",
    "            \"Codigo del expediente\":\"OJO\",\"Número del procedimiento o contratación\":\"OJO\",\n",
    "            \"Dependencia\":\"OJO\",\"Número Unidad Compradora\":\"OJO\",\"Nombre Unidad Compradora\":\"OJO\",\n",
    "            \"Fecha y hora de la publicación\":\"OJO\",\"Año del ejercicio presupuestal\":\"OJO\",\n",
    "            \"Clave partidas\":\"OJO AQUI\",\"Proveedor\":proveedor,\"Número de contrato\":\"OJO\",\"Fecha de inicio\":fecha_ini,\n",
    "            \"Fecha de fin\":fecha_fin, \"Importe Unitario sin Impuestos\":prec_unit_sin_impuestos,\n",
    "            \"Total Sin IVA\":subtotal, \"Total con IVA\":total,\"uri\":\"OJO\",\"scrapped_day\":\"OJO\"\n",
    "        })\n",
    "    driver.find_element(By.XPATH,'//span[text()=\"Cerrar\"]').click()\n",
    "    time.sleep(1)\n"
   ]
  },
  {
   "cell_type": "code",
   "execution_count": null,
   "metadata": {},
   "outputs": [],
   "source": [
    "datos_relevantes_cont"
   ]
  },
  {
   "cell_type": "code",
   "execution_count": null,
   "metadata": {},
   "outputs": [],
   "source": [
    "economicos_list"
   ]
  },
  {
   "cell_type": "code",
   "execution_count": null,
   "metadata": {},
   "outputs": [],
   "source": [
    "df = pd.DataFrame(datos_relevantes_cont)"
   ]
  },
  {
   "cell_type": "code",
   "execution_count": null,
   "metadata": {},
   "outputs": [],
   "source": [
    "precios = load_csv(\"precios.csv\")"
   ]
  },
  {
   "cell_type": "code",
   "execution_count": null,
   "metadata": {},
   "outputs": [],
   "source": [
    "df.to_csv(\"precios.csv\", index=False, header=False, encoding='utf-8', mode='a')"
   ]
  },
  {
   "cell_type": "code",
   "execution_count": 31,
   "metadata": {},
   "outputs": [],
   "source": [
    "driver.close()"
   ]
  },
  {
   "cell_type": "code",
   "execution_count": null,
   "metadata": {},
   "outputs": [],
   "source": [
    "detalles = driver.find_elements(By.XPATH, \n",
    "    '//*[contains(text(),\"Código de contrato: \")]/parent::label/\\\n",
    "        following-sibling::p-table//div[contains(@class,\"unfrozen\")]//tbody/tr')"
   ]
  },
  {
   "cell_type": "code",
   "execution_count": null,
   "metadata": {},
   "outputs": [],
   "source": [
    "detalles_p = driver.find_elements(By.XPATH, \n",
    "    '//*[contains(text(),\"Código de contrato: \")]/parent::label/following-sibling::p-table//div[contains(@class,\"-frozen\")]//tbody/tr')"
   ]
  },
  {
   "cell_type": "code",
   "execution_count": null,
   "metadata": {},
   "outputs": [],
   "source": [
    "for clave, detalle in zip(detalles_p, detalles):\n",
    "    col = clave.find_elements(By.XPATH,\"./td\")\n",
    "    print(col[1].text)\n",
    "    col = detalle.find_elements(By.XPATH,\"./td\")\n",
    "    print(col[0].text)\n",
    "    print(col[3].text)\n",
    "    print(col[4].text)\n",
    "    print(col[7].text, \"\\n\")"
   ]
  },
  {
   "cell_type": "code",
   "execution_count": null,
   "metadata": {},
   "outputs": [],
   "source": [
    "for detalle in detalles_p:\n",
    "    col = detalle.find_elements(By.XPATH,\"./td\")\n",
    "    print(col[1].text)"
   ]
  },
  {
   "cell_type": "code",
   "execution_count": null,
   "metadata": {},
   "outputs": [],
   "source": [
    "for detalle in detalles:\n",
    "    col = detalle.find_elements(By.XPATH,\"./td\")\n",
    "    print(col[0].text)"
   ]
  },
  {
   "cell_type": "code",
   "execution_count": null,
   "metadata": {},
   "outputs": [],
   "source": [
    "today = date.today().strftime(\"%d/%m/%Y\")"
   ]
  },
  {
   "cell_type": "code",
   "execution_count": null,
   "metadata": {},
   "outputs": [],
   "source": [
    "import pandas as pd"
   ]
  },
  {
   "cell_type": "code",
   "execution_count": null,
   "metadata": {},
   "outputs": [],
   "source": [
    "def load_csv(file_name:str) -> pd.DataFrame:\n",
    "    #lee la tabla de la pagina\n",
    "    return pd.read_csv(file_name, encoding='utf-8')"
   ]
  },
  {
   "cell_type": "code",
   "execution_count": null,
   "metadata": {},
   "outputs": [],
   "source": [
    "concluidos = load_csv(\"concluidos.csv\")"
   ]
  },
  {
   "cell_type": "code",
   "execution_count": null,
   "metadata": {},
   "outputs": [],
   "source": [
    "concluidos"
   ]
  },
  {
   "cell_type": "code",
   "execution_count": null,
   "metadata": {},
   "outputs": [],
   "source": [
    "from datetime import datetime"
   ]
  },
  {
   "cell_type": "code",
   "execution_count": null,
   "metadata": {},
   "outputs": [],
   "source": [
    "datetime.strptime(fecha_pub, \"%d/%m/%Y %H:%M\").strftime(\"%d/%m/%Y %H:%M\")"
   ]
  },
  {
   "cell_type": "code",
   "execution_count": null,
   "metadata": {},
   "outputs": [],
   "source": [
    "new_row = {'cod_exp':cod_exp, 'num_proc':num_proc, 'dependencia':dependencia, 'unidad_comp':unidad_comp, \n",
    "        'correo':correo, 'nombre_procedimiento':nombre_procedimiento, 'tipo_proc':tipo_proc, \n",
    "        'entidad_fed':entidad_fed, 'anio_ej':anio_ej, 'proc_exc':proc_exc, 'fecha_pub':fecha_pub, \n",
    "        'claves_list':claves_list, 'part_testigo':part_testigo, 'abastecimiento_sim':abastecimiento_sim, \n",
    "        'plurianual':plurianual, 'tipo_cont':tipo_cont, 'anticipo':anticipo, 'forma_pago':forma_pago, \n",
    "        'plazo_garant':plazo_garant, 'meses_garant':meses_garant, 'caracter':caracter, 'caso_fort ':caso_fort , \n",
    "        'tipo_cont_abierto':tipo_cont_abierto, 'uri':uri, 'scrapped_day':today}"
   ]
  },
  {
   "cell_type": "code",
   "execution_count": null,
   "metadata": {},
   "outputs": [],
   "source": [
    "concluidos = pd.concat([concluidos, pd.DataFrame([new_row])], ignore_index=True)"
   ]
  },
  {
   "cell_type": "code",
   "execution_count": null,
   "metadata": {},
   "outputs": [],
   "source": [
    "concluidos.to_csv(\"concluidos.csv\", index=False, encoding='utf-8', header=True)"
   ]
  },
  {
   "cell_type": "code",
   "execution_count": null,
   "metadata": {},
   "outputs": [],
   "source": [
    "anexos = load_csv(\"anexos.csv\")"
   ]
  },
  {
   "cell_type": "code",
   "execution_count": null,
   "metadata": {},
   "outputs": [],
   "source": [
    "new_row = {'cod_exp':cod_exp, 'num_proc':num_proc, 'anexo':filename, 'scrapped_day':today}"
   ]
  },
  {
   "cell_type": "code",
   "execution_count": null,
   "metadata": {},
   "outputs": [],
   "source": [
    "anexos = pd.concat([anexos, pd.DataFrame([new_row])], ignore_index=True)"
   ]
  },
  {
   "cell_type": "code",
   "execution_count": null,
   "metadata": {},
   "outputs": [],
   "source": [
    "anexos"
   ]
  },
  {
   "cell_type": "code",
   "execution_count": null,
   "metadata": {},
   "outputs": [],
   "source": [
    "driver.close()"
   ]
  }
 ],
 "metadata": {
  "kernelspec": {
   "display_name": ".venv",
   "language": "python",
   "name": "python3"
  },
  "language_info": {
   "codemirror_mode": {
    "name": "ipython",
    "version": 3
   },
   "file_extension": ".py",
   "mimetype": "text/x-python",
   "name": "python",
   "nbconvert_exporter": "python",
   "pygments_lexer": "ipython3",
   "version": "3.12.3"
  }
 },
 "nbformat": 4,
 "nbformat_minor": 2
}
