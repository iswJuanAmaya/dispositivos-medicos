{
 "cells": [
  {
   "cell_type": "code",
   "execution_count": 1,
   "metadata": {},
   "outputs": [],
   "source": [
    "from selenium import webdriver\n",
    "from selenium.webdriver.common.by import By\n",
    "from selenium.webdriver.chrome.options import Options\n",
    "from selenium.webdriver.common.action_chains import ActionChains\n",
    "from selenium.common.exceptions import NoSuchElementException\n",
    "from selenium.webdriver.chrome.service import Service\n",
    "from webdriver_manager.chrome import ChromeDriverManager\n",
    "from selenium.common.exceptions import TimeoutException\n",
    "from selenium.webdriver.support import expected_conditions as EC\n",
    "from selenium.webdriver.support.ui import WebDriverWait\n",
    "from selenium.webdriver.common.keys import Keys\n",
    "import time"
   ]
  },
  {
   "cell_type": "code",
   "execution_count": 2,
   "metadata": {},
   "outputs": [],
   "source": [
    "import os\n",
    "import time\n",
    "import shutil\n",
    "import random\n",
    "import pandas as pd\n",
    "from datetime import date"
   ]
  },
  {
   "cell_type": "code",
   "execution_count": null,
   "metadata": {},
   "outputs": [],
   "source": [
    "def timing_val(func):\n",
    "    def wrapper(*arg, **kw):\n",
    "        '''source: http://www.daniweb.com/code/snippet368.html'''\n",
    "        t1 = time.time()\n",
    "        func(*arg, **kw)\n",
    "        t2 = time.time()\n",
    "        segs = int(t2 - t1)\n",
    "        return f\"tardó {segs} segs...\"\n",
    "    return wrapper\n"
   ]
  },
  {
   "cell_type": "code",
   "execution_count": null,
   "metadata": {},
   "outputs": [],
   "source": [
    "def delete_files_from_dir(dir:str):\n",
    "    print(f\"Borrando el directorio: {dir}\")\n",
    "    for root, dirs, files in os.walk(dir):\n",
    "        for f in files:\n",
    "            os.unlink(os.path.join(root, f))\n",
    "        for d in dirs:\n",
    "            shutil.rmtree(os.path.join(root, d))"
   ]
  },
  {
   "cell_type": "code",
   "execution_count": null,
   "metadata": {},
   "outputs": [],
   "source": [
    "def download_wait(directory:str, timeout:int, prefix:str, nfiles:int=1):\n",
    "    \"\"\"\n",
    "    Wait for downloads to finish with a specified timeout.\n",
    "\n",
    "    Args\n",
    "    ----\n",
    "    directory : str\n",
    "        The path to the folder where the files will be downloaded.\n",
    "    timeout : int\n",
    "        How many seconds to wait until timing out.\n",
    "    nfiles : int, defaults to None\n",
    "        If provided, also wait for the expected number of files.\n",
    "\n",
    "    \"\"\"\n",
    "\n",
    "    def rename_files(prefix:str, dir:str):\n",
    "        for filename in os.listdir(dir):\n",
    "            new_filename = f\"{prefix}_{filename}\"\n",
    "            new_filename = new_filename.replace(\" \",\"_\").strip()\n",
    "            os.rename(dir+\"/\"+filename, dir+\"/\"+new_filename)\n",
    "\n",
    "    print(\"Esperando descarga\")\n",
    "\n",
    "    seconds = 0\n",
    "    dl_wait = True\n",
    "    while dl_wait and seconds < timeout:\n",
    "        time.sleep(1)\n",
    "        dl_wait = False\n",
    "        files = os.listdir(directory)\n",
    "        if len(files) < nfiles:\n",
    "            dl_wait = True\n",
    "\n",
    "        for fname in files:\n",
    "            if fname.endswith('.crdownload'):\n",
    "                dl_wait = True\n",
    "\n",
    "        seconds += 1\n",
    "\n",
    "    if seconds >= timeout:\n",
    "        print(\"Error esperando descarga, se superó el tiempo de espera.\")\n",
    "        delete_files_from_dir(\"./temp\")\n",
    "    else:\n",
    "        print(\"Archivo descargado\")\n",
    "        if seconds < 15:\n",
    "            time.sleep( random.randint(3, 6) )\n",
    "\n",
    "        print(\"Renombrando archivo\")\n",
    "        rename_files(prefix, directory)\n",
    "        time.sleep(5)\n",
    "        print(f\"Subiendo Archivos\")\n",
    "        #Subir_File(AQUI DEBE IR LA FUNCIÓN QUE SUBE LOS ARCHIVOS)\n",
    "\n",
    "        delete_files_from_dir(\"./temp\")\n"
   ]
  },
  {
   "cell_type": "code",
   "execution_count": null,
   "metadata": {},
   "outputs": [],
   "source": [
    "\n",
    "download_wait(directory=\"./temp\", timeout=3)"
   ]
  },
  {
   "cell_type": "code",
   "execution_count": null,
   "metadata": {},
   "outputs": [],
   "source": [
    "delete_files_from_dir(\"./temp\")"
   ]
  },
  {
   "cell_type": "code",
   "execution_count": null,
   "metadata": {},
   "outputs": [],
   "source": [
    "os.listdir(\"./temp\")"
   ]
  },
  {
   "cell_type": "code",
   "execution_count": 2,
   "metadata": {},
   "outputs": [],
   "source": [
    "options = webdriver.ChromeOptions()\n",
    "#options.add_argument('headless')\n",
    "#options.add_argument(\"--headless\")\n",
    "prefs = {'download.default_directory' : './temp/anexos/'}\n",
    "options.add_experimental_option('prefs', prefs)\n",
    "options.add_argument(\"--window-size=1024,768\")\n",
    "options.add_argument(\"--no-sandbox\")\n",
    "options.add_argument(\"start-maximized\")\n",
    "options.add_argument(\"--disable-infobars\")"
   ]
  },
  {
   "cell_type": "code",
   "execution_count": 6,
   "metadata": {},
   "outputs": [
    {
     "data": {
      "text/plain": [
       "'C:\\\\Users\\\\juan-\\\\.wdm\\\\drivers\\\\chromedriver\\\\win64\\\\127.0.6533.72\\\\chromedriver-win32/THIRD_PARTY_NOTICES.chromedriver'"
      ]
     },
     "execution_count": 6,
     "metadata": {},
     "output_type": "execute_result"
    }
   ],
   "source": [
    "ChromeDriverManager().install()"
   ]
  },
  {
   "cell_type": "code",
   "execution_count": 1,
   "metadata": {},
   "outputs": [],
   "source": [
    "aver = [1,2,3,4]"
   ]
  },
  {
   "cell_type": "code",
   "execution_count": 4,
   "metadata": {},
   "outputs": [
    {
     "ename": "IndexError",
     "evalue": "list index out of range",
     "output_type": "error",
     "traceback": [
      "\u001b[1;31m---------------------------------------------------------------------------\u001b[0m",
      "\u001b[1;31mIndexError\u001b[0m                                Traceback (most recent call last)",
      "Cell \u001b[1;32mIn[4], line 1\u001b[0m\n\u001b[1;32m----> 1\u001b[0m \u001b[43maver\u001b[49m\u001b[43m[\u001b[49m\u001b[38;5;241;43m5\u001b[39;49m\u001b[43m]\u001b[49m\n",
      "\u001b[1;31mIndexError\u001b[0m: list index out of range"
     ]
    }
   ],
   "source": [
    "aver[5]"
   ]
  },
  {
   "cell_type": "code",
   "execution_count": 7,
   "metadata": {},
   "outputs": [],
   "source": [
    "driver = webdriver.Chrome(options=options,\n",
    "            service=Service(executable_path=\"C:\\\\Users\\\\juan-\\\\.wdm\\\\drivers\\\\chromedriver\\\\win64\\\\127.0.6533.72\\\\chromedriver-win32/chromedriver.exe\"),\n",
    "        )"
   ]
  },
  {
   "cell_type": "code",
   "execution_count": null,
   "metadata": {},
   "outputs": [],
   "source": [
    "driver.get(\"https://upcp-compranet.hacienda.gob.mx/sitiopublico/#/\")"
   ]
  },
  {
   "cell_type": "code",
   "execution_count": 8,
   "metadata": {},
   "outputs": [],
   "source": [
    "driver.close()"
   ]
  },
  {
   "cell_type": "code",
   "execution_count": 11,
   "metadata": {},
   "outputs": [],
   "source": [
    "driver.find_element(By.XPATH,'//*[text()=\"PROCEDIMIENTO DE CONTRATACIÓN\"]').click()"
   ]
  },
  {
   "cell_type": "code",
   "execution_count": 12,
   "metadata": {},
   "outputs": [],
   "source": [
    "driver.find_element(By.XPATH,'//*[@name=\"ley\"]').click()"
   ]
  },
  {
   "cell_type": "code",
   "execution_count": null,
   "metadata": {},
   "outputs": [],
   "source": [
    "for i in range(0, 10):\n",
    "    next_page_btn = driver.find_element(By.XPATH,'//button[contains(@class,\"p-paginator-next\")]')\n",
    "    if \"p-disabled\" in next_page_btn.get_attribute(\"class\"):\n",
    "        print(\"Se acabaron las páginas disponibles\")\n",
    "        break\n",
    "    else:\n",
    "        ActionChains(driver).scroll_to_element(next_page_btn).pause(1).click().perform()\n",
    "\n",
    "\n"
   ]
  },
  {
   "cell_type": "code",
   "execution_count": null,
   "metadata": {},
   "outputs": [],
   "source": [
    "driver.find_element(By.XPATH,'//*[@name=\"contratacion\"]').click()"
   ]
  },
  {
   "cell_type": "code",
   "execution_count": 7,
   "metadata": {},
   "outputs": [],
   "source": [
    "driver.find_element(By.XPATH,'//*[text()=\"Anuncios concluidos\"]').click()"
   ]
  },
  {
   "cell_type": "code",
   "execution_count": null,
   "metadata": {},
   "outputs": [],
   "source": [
    "click = lambda xpath: driver.find_element(By.XPATH, xpath).click()"
   ]
  },
  {
   "cell_type": "code",
   "execution_count": null,
   "metadata": {},
   "outputs": [],
   "source": [
    "click('//*[@label=\"Filtros\"]/button')"
   ]
  },
  {
   "cell_type": "code",
   "execution_count": null,
   "metadata": {},
   "outputs": [],
   "source": [
    "click('//*[@name=\"claves\"]')"
   ]
  },
  {
   "cell_type": "code",
   "execution_count": null,
   "metadata": {},
   "outputs": [],
   "source": [
    "claves = [\"25401\",\"25301\",\"25501\",\"32401\",\"53101\",\"53201\"]"
   ]
  },
  {
   "cell_type": "code",
   "execution_count": null,
   "metadata": {},
   "outputs": [],
   "source": [
    "for clave in claves:\n",
    "    driver.find_element(By.XPATH,'//p-multiselect[@name=\"claves\"]//input[contains(@class,\"filter\")]').send_keys(clave)\n",
    "    time.sleep(2)\n",
    "    \n",
    "    click(f'//*[contains(text(),\"{clave}\")]')\n",
    "    time.sleep(2)\n",
    "    \n",
    "    driver.find_element(By.XPATH,'//p-multiselect[@name=\"claves\"]//input[contains(@class,\"filter\")]').clear()\n",
    "    time.sleep(1)\n",
    "    "
   ]
  },
  {
   "cell_type": "code",
   "execution_count": null,
   "metadata": {},
   "outputs": [],
   "source": [
    "click('//span[text()=\"Buscar\"]')"
   ]
  },
  {
   "cell_type": "code",
   "execution_count": null,
   "metadata": {},
   "outputs": [],
   "source": [
    "def esperar_carga_componenete(driver):\n",
    "    try:\n",
    "        WebDriverWait(driver, 5).until(EC.visibility_of_element_located((By.XPATH, '//div[@class=\"spinner\"]')))\n",
    "    except TimeoutException:\n",
    "        print(\"OJO, no apareció la leyenda de carga\")\n",
    "    try:\n",
    "        WebDriverWait(driver, 120).until(EC.invisibility_of_element_located((By.XPATH, '//div[@class=\"spinner\"]')))\n",
    "    except TimeoutException:\n",
    "        print(\"Error: No desaparece leyenda cargando\")\n",
    "    \n",
    "    time.sleep(1)"
   ]
  },
  {
   "cell_type": "code",
   "execution_count": null,
   "metadata": {},
   "outputs": [],
   "source": [
    "def duerme(a:int, b:int=0):\n",
    "    \"Sleeps for @a seconds, if b is given it'll sleep for a random between @a, @b\"\n",
    "    time_to_sleep = random.randint(a, b) if b else a\n",
    "    time.sleep(time_to_sleep)"
   ]
  },
  {
   "cell_type": "code",
   "execution_count": null,
   "metadata": {},
   "outputs": [],
   "source": [
    "for i in range(0, 10):\n",
    "    next_page_btn = driver.find_element(By.XPATH,'//button[contains(@class,\"p-paginator-next\")]')\n",
    "    if \"p-disabled\" in next_page_btn.get_attribute(\"class\"):\n",
    "        print(\"Se acabaron las páginas disponibles\")\n",
    "        break\n",
    "    else:\n",
    "        ActionChains(driver).scroll_to_element(next_page_btn)\\\n",
    "            .pause(1).click(next_page_btn).perform()\n",
    "        esperar_carga_componenete(driver)\n",
    "        duerme(2, 4)"
   ]
  },
  {
   "cell_type": "code",
   "execution_count": null,
   "metadata": {},
   "outputs": [],
   "source": [
    "import pandas as pd"
   ]
  },
  {
   "cell_type": "code",
   "execution_count": null,
   "metadata": {},
   "outputs": [],
   "source": [
    "df = pd.read_csv(\"concluidos.csv\", usecols = ['num_proc'])"
   ]
  },
  {
   "cell_type": "code",
   "execution_count": null,
   "metadata": {},
   "outputs": [],
   "source": [
    "df[df['num_proc'] == \"AA-50-GYR-050GYR016-I-79-2023\"] "
   ]
  },
  {
   "cell_type": "code",
   "execution_count": null,
   "metadata": {},
   "outputs": [],
   "source": [
    "df['num_proc'].str.contains(\"AA-50-GYR-050GYR016-I-79-2023\").any()"
   ]
  },
  {
   "cell_type": "code",
   "execution_count": null,
   "metadata": {},
   "outputs": [],
   "source": [
    "if df['num_proc'].str.contains(\"AA-50-GYR-050GYR016-I-79-2023\").any():\n",
    "    print(\"simon\")"
   ]
  },
  {
   "cell_type": "code",
   "execution_count": 2,
   "metadata": {},
   "outputs": [],
   "source": [
    "options = webdriver.ChromeOptions()\n",
    "prefs = {\n",
    "    \"download.default_directory\": r\"C:\\Users\\juan-\\Desktop\\CNET Scrapping 2024\\temp\\\\\",\n",
    "    \"download.directory_upgrade\": True,\n",
    "    \"download.prompt_for_download\": False,\n",
    "}\n",
    "options.add_experimental_option(\"prefs\", prefs)\n",
    "\n",
    "options.add_argument(\"--window-size=1920, 1080\")\n",
    "options.add_argument(\"--no-sandbox\")\n",
    "options.add_argument(\"start-maximized\")\n",
    "options.add_argument(\"--disable-infobars\")\n",
    "\n",
    "executable_path = ChromeDriverManager().install()\n",
    "executable_path = executable_path.replace(\"THIRD_PARTY_NOTICES.chromedriver\", \"chromedriver.exe\")\n",
    "\n",
    "driver = webdriver.Chrome(options=options,\n",
    "            service=Service(executable_path=executable_path),\n",
    "        )"
   ]
  },
  {
   "cell_type": "code",
   "execution_count": 6,
   "metadata": {},
   "outputs": [],
   "source": [
    "driver.get(\"https://upcp-compranet.hacienda.gob.mx/sitiopublico/#/sitiopublico/detalle/0c6275fb20ef4465a700e4dc2e5a3520/procedimiento\")"
   ]
  },
  {
   "cell_type": "code",
   "execution_count": 5,
   "metadata": {},
   "outputs": [],
   "source": [
    "driver.regresh()"
   ]
  },
  {
   "cell_type": "code",
   "execution_count": 13,
   "metadata": {},
   "outputs": [],
   "source": [
    "driver.close()\n"
   ]
  },
  {
   "cell_type": "code",
   "execution_count": 4,
   "metadata": {},
   "outputs": [],
   "source": [
    "driver.execute_script(\"document.body.style.zoom='80%'\")"
   ]
  },
  {
   "cell_type": "code",
   "execution_count": 8,
   "metadata": {},
   "outputs": [],
   "source": [
    "driver.execute_script(\"window.scrollTo(0, document.body.scrollHeight);\")"
   ]
  },
  {
   "cell_type": "code",
   "execution_count": 1,
   "metadata": {},
   "outputs": [],
   "source": [
    "from colorama import Fore"
   ]
  },
  {
   "cell_type": "code",
   "execution_count": 3,
   "metadata": {},
   "outputs": [
    {
     "name": "stdout",
     "output_type": "stream",
     "text": [
      "\u001b[33meste texto se imprime en color rojo\n"
     ]
    }
   ],
   "source": [
    "print(Fore.YELLOW + f'este texto se imprime en color rojo')"
   ]
  },
  {
   "cell_type": "code",
   "execution_count": null,
   "metadata": {},
   "outputs": [],
   "source": [
    "def get_text_by_xpath(xp:str, required:bool=False, join:bool=False):\n",
    "    try:\n",
    "        if not join:\n",
    "            txt = driver.find_element(By.XPATH, xp).text\n",
    "        else:\n",
    "            finds = driver.find_elements(By.XPATH, xp)\n",
    "            txt = \",\".join([i.text for i in finds])\n",
    "\n",
    "        return txt\n",
    "    \n",
    "    except:\n",
    "        if required:\n",
    "            return False\n",
    "        else:\n",
    "            return \"\"\n",
    "    "
   ]
  },
  {
   "cell_type": "code",
   "execution_count": 10,
   "metadata": {},
   "outputs": [],
   "source": [
    "import re"
   ]
  },
  {
   "cell_type": "code",
   "execution_count": 9,
   "metadata": {},
   "outputs": [
    {
     "data": {
      "text/plain": [
       "7"
      ]
     },
     "execution_count": 9,
     "metadata": {},
     "output_type": "execute_result"
    }
   ],
   "source": [
    "len(\n",
    "    driver.find_elements(By.XPATH, '//th[text()=\"Número de contrato\"]/ancestor::div[contains(@class,\"header\")]/following-sibling::div/table//tr')\n",
    ")"
   ]
  },
  {
   "cell_type": "code",
   "execution_count": 10,
   "metadata": {},
   "outputs": [
    {
     "data": {
      "text/plain": [
       "50"
      ]
     },
     "execution_count": 10,
     "metadata": {},
     "output_type": "execute_result"
    }
   ],
   "source": [
    "len(\n",
    "    driver.find_elements(By.XPATH, '//th[text()=\"Descripción CUCoP+\"]/ancestor::div[contains(@class,\"header\")]/following-sibling::div/table//tr')\n",
    ")"
   ]
  },
  {
   "cell_type": "code",
   "execution_count": 13,
   "metadata": {},
   "outputs": [],
   "source": [
    "economicos = driver.find_elements(By.XPATH, '//th[text()=\"Descripción CUCoP+\"]/ancestor::div[contains(@class,\"header\")]/following-sibling::div/table//tr')\n",
    "economicos_list = []\n",
    "for row_economic in economicos:\n",
    "    col = row_economic.find_elements(By.XPATH,\"./td\")\n",
    "    partida_esp = col[1].text\n",
    "    clave_cucop = col[2].text\n",
    "    desc_cucop = col[3].text\n",
    "    desc_det = col[4].text\n",
    "    unidades_medida = col[5].text\n",
    "    cantidad_solicitada = col[6].text\n",
    "    claves_compendio = re.findall(r\"\\d{3,4}.{1}\\d{3,4}.{1}\\d{3,4}\", desc_det)#CUCOP\n",
    "    clave_compendio = claves_compendio[0].replace(\" \",\".\") if len(claves_compendio)>0 else \"\"\n",
    "    \n",
    "    economicos_list.append({\n",
    "        \"Clave compendio\":clave_compendio, \"Codigo del expediente\":\"OJO\", \"Número del procedimiento o contratación\":\"OJO\",\n",
    "        \"Partida específica\":partida_esp, \"Clave CUCoP+\":clave_cucop, \"Descripción CUCoP+\": desc_cucop, \n",
    "        \"Descripción detallada\":desc_det, \"Unidad de medida\":unidades_medida, \"Cantidad solicitada\":cantidad_solicitada,\n",
    "        \"uri\":\"OJO\", \"scrapped_day\":\"OJO\"\n",
    "    })"
   ]
  },
  {
   "cell_type": "code",
   "execution_count": 12,
   "metadata": {},
   "outputs": [
    {
     "data": {
      "text/plain": [
       "50"
      ]
     },
     "execution_count": 12,
     "metadata": {},
     "output_type": "execute_result"
    }
   ],
   "source": [
    "len( economicos_list  )"
   ]
  },
  {
   "cell_type": "code",
   "execution_count": 14,
   "metadata": {},
   "outputs": [],
   "source": [
    "datos_cont_rows = driver.find_elements(By.XPATH, '//th[text()=\"Número de contrato\"]/ancestor::div[contains(@class,\"header\")]/following-sibling::div/table//tr')"
   ]
  },
  {
   "cell_type": "code",
   "execution_count": 19,
   "metadata": {},
   "outputs": [],
   "source": [
    "filas = driver.find_elements(By.XPATH, \n",
    "        '//*[contains(text(),\"Código de contrato: \")]/parent::label/following-sibling::p-table//div[contains(@class,\"unfrozen\")]//tbody/tr')"
   ]
  },
  {
   "cell_type": "code",
   "execution_count": null,
   "metadata": {},
   "outputs": [],
   "source": [
    "ActionChains(driver).scroll_to_element(col[2]).move_to_element(col[2])\\\n",
    "                        .pause(1).click().perform()"
   ]
  },
  {
   "cell_type": "code",
   "execution_count": 29,
   "metadata": {},
   "outputs": [],
   "source": [
    "datos_relevantes_cont = []\n",
    "xp = '//th[text()=\"Número de contrato\"]/ancestor::div[contains(@class,\"header\")]/following-sibling::div/table//tr'\n",
    "datos_cont_rows = driver.find_elements(By.XPATH, xp )\n",
    "for dato in datos_cont_rows:\n",
    "    col = dato.find_elements(By.XPATH,\"./td\")\n",
    "    proveedor = col[1].text\n",
    "    num_cont = col[2].text\n",
    "    fecha_ini = col[5].text\n",
    "    fecha_fin = col[6].text\n",
    "    #titulo_cont = col[3].tex\n",
    "    \n",
    "    ActionChains(driver).scroll_to_element(col[2]).move_to_element(col[2])\\\n",
    "                        .pause(1).click().perform()\n",
    "    try:\n",
    "        xp = '//*[contains(text(),\"Código de contrato: \")]/parent::label/following-sibling::p-table'\n",
    "        WebDriverWait(driver, 90).until(EC.visibility_of_element_located((By.XPATH, xp)))\n",
    "    except TimeoutException:\n",
    "        print(f\"no cargó {num_cont}\")\n",
    "\n",
    "    #Obtiene las filas de la tabla de detalle(cada fila se dividide en dos columnas grandotas)\n",
    "    detalles = driver.find_elements(By.XPATH, \n",
    "        '//*[contains(text(),\"Código de contrato: \")]/parent::label/following-sibling::p-table//div[contains(@class,\"unfrozen\")]//tbody/tr')\n",
    "    detalles_p = driver.find_elements(By.XPATH, \n",
    "        '//*[contains(text(),\"Código de contrato: \")]/parent::label/following-sibling::p-table//div[contains(@class,\"-frozen\")]//tbody/tr')\n",
    "    for clave, detalle in zip(detalles_p, detalles):\n",
    "        col = clave.find_elements(By.XPATH,\"./td\")\n",
    "        clave_cucop = col[1].text\n",
    "\n",
    "        col = detalle.find_elements(By.XPATH,\"./td\")\n",
    "        desc_det = col[0].text\n",
    "        prec_unit_sin_impuestos = col[3].text\n",
    "        subtotal = col[4].text\n",
    "        total = col[7].text \n",
    "\n",
    "        claves_compendio = [i['Clave compendio'] for i in economicos_list if clave_cucop in i[\"Clave CUCoP+\"]]\n",
    "        clave_compendio = claves_compendio[0].replace(\" \",\".\") if len(claves_compendio)>0 else \"\"\n",
    "\n",
    "        datos_relevantes_cont.append({\n",
    "            \"Clave compendio\":clave_compendio\n",
    "        })\n",
    "\n",
    "    driver.find_element(By.XPATH,'//span[text()=\"Cerrar\"]').click()\n",
    "    time.sleep(3)"
   ]
  },
  {
   "cell_type": "code",
   "execution_count": 18,
   "metadata": {},
   "outputs": [
    {
     "name": "stdout",
     "output_type": "stream",
     "text": [
      "Descripción detallada,Unidad de medida,Cantidad solicitada,Precio unitario sin impuestos,Subtotal,IVA,Otros impuestos,Total\n"
     ]
    }
   ],
   "source": [
    "detalles = driver.find_elements(By.XPATH, \n",
    "    '//*[contains(text(),\"Código de contrato: \")]/parent::label/following-sibling::p-table//div[contains(@class,\"unfrozen\")]//tbody/tr')\n",
    "detalles_p = driver.find_elements(By.XPATH, \n",
    "    '//*[contains(text(),\"Código de contrato: \")]/parent::label/following-sibling::p-table//div[contains(@class,\"-frozen\")]//tbody/tr')\n",
    "for clave, detalle in zip(detalles_p, detalles):\n",
    "    \n",
    "    col = clave.find_elements(By.XPATH,\"./td\")\n",
    "    clave_cucop = col[1].text\n",
    "    try:\n",
    "        col = detalle.find_elements(By.XPATH,\"./td\")\n",
    "        desc_det = col[0].text\n",
    "        prec_unit_sin_impuestos = col[3].text\n",
    "        subtotal = col[4].text\n",
    "        total = col[8].text \n",
    "    except IndexError:\n",
    "        columnas_anormales = driver.find_elements(By.XPATH, \n",
    "            '//*[contains(text(),\"Código de contrato: \")]/parent::label/following-sibling::p-table//div[contains(@class,\"unfrozen\")]//thead/tr/th')\n",
    "        aver = \",\".join([c.text for c in columnas_anormales])\n",
    "        print(aver)\n",
    "\n",
    "\n",
    "    break"
   ]
  },
  {
   "cell_type": "code",
   "execution_count": 23,
   "metadata": {},
   "outputs": [
    {
     "name": "stdout",
     "output_type": "stream",
     "text": [
      "Descripción det\n"
     ]
    }
   ],
   "source": [
    "print(aver[0:15])"
   ]
  },
  {
   "cell_type": "code",
   "execution_count": null,
   "metadata": {},
   "outputs": [],
   "source": [
    "datos_cont_rows = driver.find_elements(By.XPATH, '//th[text()=\"Número de contrato\"]/ancestor::div[contains(@class,\"header\")]/following-sibling::div/table//tr')\n",
    "datos_relevantes_cont = []\n",
    "for dato in datos_cont_rows:\n",
    "    col = dato.find_elements(By.XPATH,\"./td\")\n",
    "    proveedor = col[1].text\n",
    "    num_cont = col[2].text\n",
    "    titulo_cont = col[3].text\n",
    "    fecha_ini = col[5].text\n",
    "    fecha_fin = col[6].text\n",
    "\n",
    "    col[2].click()\n",
    "    time.sleep(3)\n",
    "\n",
    "    #Obtiene las filas de la tabla de detalle(dividide cada fila en dos columnas grandotas)\n",
    "    detalles = driver.find_elements(By.XPATH, \n",
    "    '//*[contains(text(),\"Código de contrato: \")]/parent::label/following-sibling::p-table//div[contains(@class,\"unfrozen\")]//tbody/tr')\n",
    "    detalles_p = driver.find_elements(By.XPATH, \n",
    "    '//*[contains(text(),\"Código de contrato: \")]/parent::label/following-sibling::p-table//div[contains(@class,\"-frozen\")]//tbody/tr')\n",
    "    for clave, detalle in zip(detalles_p, detalles):\n",
    "        col = clave.find_elements(By.XPATH,\"./td\")\n",
    "        clave_cucop = col[1].text\n",
    "        col = detalle.find_elements(By.XPATH,\"./td\")\n",
    "        desc_det = col[0].text\n",
    "        prec_unit_sin_impuestos = col[3].text\n",
    "        subtotal = col[4].text\n",
    "        total = col[7].text \n",
    "\n",
    "        clave_compendio = [i['Clave compendio'] for i in economicos_list if clave_cucop in i[\"Clave CUCoP+\"]]\n",
    "\n",
    "        datos_relevantes_cont.append({\n",
    "            \"Clave compendio\":clave_compendio, \"Clave Cucop\":clave_cucop, \"Descripción detallada\":desc_det,\n",
    "            \"Codigo del expediente\":\"OJO\",\"Número del procedimiento o contratación\":\"OJO\",\n",
    "            \"Dependencia\":\"OJO\",\"Número Unidad Compradora\":\"OJO\",\"Nombre Unidad Compradora\":\"OJO\",\n",
    "            \"Fecha y hora de la publicación\":\"OJO\",\"Año del ejercicio presupuestal\":\"OJO\",\n",
    "            \"Clave partidas\":\"OJO AQUI\",\"Proveedor\":proveedor,\"Número de contrato\":\"OJO\",\"Fecha de inicio\":fecha_ini,\n",
    "            \"Fecha de fin\":fecha_fin, \"Importe Unitario sin Impuestos\":prec_unit_sin_impuestos,\n",
    "            \"Total Sin IVA\":subtotal, \"Total con IVA\":total,\"uri\":\"OJO\",\"scrapped_day\":\"OJO\"\n",
    "        })\n",
    "    driver.find_element(By.XPATH,'//span[text()=\"Cerrar\"]').click()\n",
    "    time.sleep(1)\n"
   ]
  },
  {
   "cell_type": "code",
   "execution_count": null,
   "metadata": {},
   "outputs": [],
   "source": [
    "datos_relevantes_cont"
   ]
  },
  {
   "cell_type": "code",
   "execution_count": null,
   "metadata": {},
   "outputs": [],
   "source": [
    "economicos_list"
   ]
  },
  {
   "cell_type": "code",
   "execution_count": null,
   "metadata": {},
   "outputs": [],
   "source": [
    "df = pd.DataFrame(datos_relevantes_cont)"
   ]
  },
  {
   "cell_type": "code",
   "execution_count": null,
   "metadata": {},
   "outputs": [],
   "source": [
    "precios = load_csv(\"precios.csv\")"
   ]
  },
  {
   "cell_type": "code",
   "execution_count": null,
   "metadata": {},
   "outputs": [],
   "source": [
    "df.to_csv(\"precios.csv\", index=False, header=False, encoding='utf-8', mode='a')"
   ]
  },
  {
   "cell_type": "code",
   "execution_count": 31,
   "metadata": {},
   "outputs": [],
   "source": [
    "driver.close()"
   ]
  },
  {
   "cell_type": "code",
   "execution_count": null,
   "metadata": {},
   "outputs": [],
   "source": [
    "detalles = driver.find_elements(By.XPATH, \n",
    "    '//*[contains(text(),\"Código de contrato: \")]/parent::label/\\\n",
    "        following-sibling::p-table//div[contains(@class,\"unfrozen\")]//tbody/tr')"
   ]
  },
  {
   "cell_type": "code",
   "execution_count": null,
   "metadata": {},
   "outputs": [],
   "source": [
    "detalles_p = driver.find_elements(By.XPATH, \n",
    "    '//*[contains(text(),\"Código de contrato: \")]/parent::label/following-sibling::p-table//div[contains(@class,\"-frozen\")]//tbody/tr')"
   ]
  },
  {
   "cell_type": "code",
   "execution_count": null,
   "metadata": {},
   "outputs": [],
   "source": [
    "for clave, detalle in zip(detalles_p, detalles):\n",
    "    col = clave.find_elements(By.XPATH,\"./td\")\n",
    "    print(col[1].text)\n",
    "    col = detalle.find_elements(By.XPATH,\"./td\")\n",
    "    print(col[0].text)\n",
    "    print(col[3].text)\n",
    "    print(col[4].text)\n",
    "    print(col[7].text, \"\\n\")"
   ]
  },
  {
   "cell_type": "code",
   "execution_count": null,
   "metadata": {},
   "outputs": [],
   "source": [
    "for detalle in detalles_p:\n",
    "    col = detalle.find_elements(By.XPATH,\"./td\")\n",
    "    print(col[1].text)"
   ]
  },
  {
   "cell_type": "code",
   "execution_count": null,
   "metadata": {},
   "outputs": [],
   "source": [
    "for detalle in detalles:\n",
    "    col = detalle.find_elements(By.XPATH,\"./td\")\n",
    "    print(col[0].text)"
   ]
  },
  {
   "cell_type": "code",
   "execution_count": null,
   "metadata": {},
   "outputs": [],
   "source": [
    "today = date.today().strftime(\"%d/%m/%Y\")"
   ]
  },
  {
   "cell_type": "code",
   "execution_count": null,
   "metadata": {},
   "outputs": [],
   "source": [
    "import pandas as pd"
   ]
  },
  {
   "cell_type": "code",
   "execution_count": null,
   "metadata": {},
   "outputs": [],
   "source": [
    "def load_csv(file_name:str) -> pd.DataFrame:\n",
    "    #lee la tabla de la pagina\n",
    "    return pd.read_csv(file_name, encoding='utf-8')"
   ]
  },
  {
   "cell_type": "code",
   "execution_count": null,
   "metadata": {},
   "outputs": [],
   "source": [
    "concluidos = load_csv(\"concluidos.csv\")"
   ]
  },
  {
   "cell_type": "code",
   "execution_count": null,
   "metadata": {},
   "outputs": [],
   "source": [
    "concluidos"
   ]
  },
  {
   "cell_type": "code",
   "execution_count": 17,
   "metadata": {},
   "outputs": [],
   "source": [
    "from datetime import datetime"
   ]
  },
  {
   "cell_type": "code",
   "execution_count": null,
   "metadata": {},
   "outputs": [],
   "source": [
    "datetime.strptime(fecha_pub, \"%d/%m/%Y %H:%M\").strftime(\"%d/%m/%Y %H:%M\")"
   ]
  },
  {
   "cell_type": "code",
   "execution_count": 18,
   "metadata": {},
   "outputs": [],
   "source": [
    "new_row = {'cod_exp':\"\", 'num_proc':\"\", 'dependencia':\"\", 'unidad_comp':\"\", \n",
    "        'correo':\"\", 'nombre_procedimiento':\"\", 'tipo_proc':\"\", \n",
    "        'entidad_fed':\"\", 'anio_ej':\"\", 'proc_exc':\"\", 'fecha_pub':\"\", \n",
    "        'claves_list':\"\", 'part_testigo':\"\", 'abastecimiento_sim':\"\", \n",
    "        'plurianual':\"\", 'tipo_cont':\"\", 'anticipo':\"\", 'forma_pago':\"\", \n",
    "        'plazo_garant':\"\", 'meses_garant':\"\", 'caracter':\"\", 'caso_fort ':\"\", \n",
    "        'tipo_cont_abierto':\"\", 'uri':\"\", 'scrapped_day':\"\"}"
   ]
  },
  {
   "cell_type": "code",
   "execution_count": null,
   "metadata": {},
   "outputs": [],
   "source": [
    "driver.close()"
   ]
  },
  {
   "cell_type": "code",
   "execution_count": 1,
   "metadata": {},
   "outputs": [],
   "source": [
    "import pandas as pd\n"
   ]
  },
  {
   "cell_type": "code",
   "execution_count": 18,
   "metadata": {},
   "outputs": [],
   "source": [
    "df = pd.read_csv('./precios.csv')"
   ]
  },
  {
   "cell_type": "code",
   "execution_count": 19,
   "metadata": {},
   "outputs": [
    {
     "data": {
      "text/html": [
       "<div>\n",
       "<style scoped>\n",
       "    .dataframe tbody tr th:only-of-type {\n",
       "        vertical-align: middle;\n",
       "    }\n",
       "\n",
       "    .dataframe tbody tr th {\n",
       "        vertical-align: top;\n",
       "    }\n",
       "\n",
       "    .dataframe thead th {\n",
       "        text-align: right;\n",
       "    }\n",
       "</style>\n",
       "<table border=\"1\" class=\"dataframe\">\n",
       "  <thead>\n",
       "    <tr style=\"text-align: right;\">\n",
       "      <th></th>\n",
       "      <th>Clave compendio</th>\n",
       "      <th>Clave Cucop</th>\n",
       "      <th>Descripción detallada</th>\n",
       "      <th>Codigo del expediente</th>\n",
       "      <th>Número del procedimiento o contratación</th>\n",
       "      <th>Dependencia</th>\n",
       "      <th>Número Unidad Compradora</th>\n",
       "      <th>Nombre Unidad Compradora</th>\n",
       "      <th>Fecha y hora de la publicación</th>\n",
       "      <th>Año del ejercicio presupuestal</th>\n",
       "      <th>Clave partidas</th>\n",
       "      <th>Proveedor</th>\n",
       "      <th>Número de contrato</th>\n",
       "      <th>Fecha de inicio</th>\n",
       "      <th>Fecha de fin</th>\n",
       "      <th>Importe Unitario sin Impuestos</th>\n",
       "      <th>Total Sin IVA</th>\n",
       "      <th>Total con IVA</th>\n",
       "      <th>uri</th>\n",
       "      <th>scrapped_day</th>\n",
       "    </tr>\n",
       "  </thead>\n",
       "  <tbody>\n",
       "    <tr>\n",
       "      <th>0</th>\n",
       "      <td>NaN</td>\n",
       "      <td>25501-0047</td>\n",
       "      <td>L1489686 - TUBO PARA CULTIVO DE 5 ML DE POLIPR...</td>\n",
       "      <td>E-2023-00037065</td>\n",
       "      <td>AA-12-NCZ-012NCZ001-N-183-2023</td>\n",
       "      <td>012NCZ - INSTITUTO NACIONAL DE PEDIATRIA</td>\n",
       "      <td>012NCZ001</td>\n",
       "      <td>DIRECCIÓN DE ADMINISTRACIÓN</td>\n",
       "      <td>12/05/2023 17:31</td>\n",
       "      <td>2023</td>\n",
       "      <td>25501</td>\n",
       "      <td>KELBI CARMONA JIMENEZ</td>\n",
       "      <td>AD-646</td>\n",
       "      <td>11/05/2023</td>\n",
       "      <td>29/06/2023</td>\n",
       "      <td>$3,221.00</td>\n",
       "      <td>$48,315.00</td>\n",
       "      <td>$56,045.40</td>\n",
       "      <td>https://upcp-compranet.hacienda.gob.mx/sitiopu...</td>\n",
       "      <td>27/07/2024</td>\n",
       "    </tr>\n",
       "    <tr>\n",
       "      <th>1</th>\n",
       "      <td>NaN</td>\n",
       "      <td>25501-0088</td>\n",
       "      <td>NaN</td>\n",
       "      <td>E-2023-00042923</td>\n",
       "      <td>AA-51-GYN-051GYN032-N-113-2023</td>\n",
       "      <td>Error::: Descripción detallada,Unidad de medid...</td>\n",
       "      <td>051GYN032</td>\n",
       "      <td>HOSPITAL REGIONAL PUEBLA, COORDINACION DE RECU...</td>\n",
       "      <td>31/05/2023 16:46</td>\n",
       "      <td>2023</td>\n",
       "      <td>25501</td>\n",
       "      <td>QUIMICA KEICEL SA DE CV</td>\n",
       "      <td>HRP/CRM/AD/0165/2023</td>\n",
       "      <td>15/05/2023</td>\n",
       "      <td>29/12/2023</td>\n",
       "      <td>NaN</td>\n",
       "      <td>NaN</td>\n",
       "      <td>NaN</td>\n",
       "      <td>https://upcp-compranet.hacienda.gob.mx/sitiopu...</td>\n",
       "      <td>27/07/2024</td>\n",
       "    </tr>\n",
       "    <tr>\n",
       "      <th>2</th>\n",
       "      <td>NaN</td>\n",
       "      <td>25501-0059</td>\n",
       "      <td>NaN</td>\n",
       "      <td>E-2023-00042923</td>\n",
       "      <td>AA-51-GYN-051GYN032-N-113-2023</td>\n",
       "      <td>Error::: Descripción detallada,Unidad de medid...</td>\n",
       "      <td>051GYN032</td>\n",
       "      <td>HOSPITAL REGIONAL PUEBLA, COORDINACION DE RECU...</td>\n",
       "      <td>31/05/2023 16:46</td>\n",
       "      <td>2023</td>\n",
       "      <td>25501</td>\n",
       "      <td>QUIMICA KEICEL SA DE CV</td>\n",
       "      <td>HRP/CRM/AD/0165/2023</td>\n",
       "      <td>15/05/2023</td>\n",
       "      <td>29/12/2023</td>\n",
       "      <td>NaN</td>\n",
       "      <td>NaN</td>\n",
       "      <td>NaN</td>\n",
       "      <td>https://upcp-compranet.hacienda.gob.mx/sitiopu...</td>\n",
       "      <td>27/07/2024</td>\n",
       "    </tr>\n",
       "  </tbody>\n",
       "</table>\n",
       "</div>"
      ],
      "text/plain": [
       "  Clave compendio Clave Cucop  \\\n",
       "0             NaN  25501-0047   \n",
       "1             NaN  25501-0088   \n",
       "2             NaN  25501-0059   \n",
       "\n",
       "                               Descripción detallada Codigo del expediente  \\\n",
       "0  L1489686 - TUBO PARA CULTIVO DE 5 ML DE POLIPR...       E-2023-00037065   \n",
       "1                                                NaN       E-2023-00042923   \n",
       "2                                                NaN       E-2023-00042923   \n",
       "\n",
       "  Número del procedimiento o contratación  \\\n",
       "0          AA-12-NCZ-012NCZ001-N-183-2023   \n",
       "1          AA-51-GYN-051GYN032-N-113-2023   \n",
       "2          AA-51-GYN-051GYN032-N-113-2023   \n",
       "\n",
       "                                         Dependencia Número Unidad Compradora  \\\n",
       "0           012NCZ - INSTITUTO NACIONAL DE PEDIATRIA                012NCZ001   \n",
       "1  Error::: Descripción detallada,Unidad de medid...                051GYN032   \n",
       "2  Error::: Descripción detallada,Unidad de medid...                051GYN032   \n",
       "\n",
       "                            Nombre Unidad Compradora  \\\n",
       "0                        DIRECCIÓN DE ADMINISTRACIÓN   \n",
       "1  HOSPITAL REGIONAL PUEBLA, COORDINACION DE RECU...   \n",
       "2  HOSPITAL REGIONAL PUEBLA, COORDINACION DE RECU...   \n",
       "\n",
       "  Fecha y hora de la publicación  Año del ejercicio presupuestal  \\\n",
       "0               12/05/2023 17:31                            2023   \n",
       "1               31/05/2023 16:46                            2023   \n",
       "2               31/05/2023 16:46                            2023   \n",
       "\n",
       "  Clave partidas                Proveedor    Número de contrato  \\\n",
       "0          25501    KELBI CARMONA JIMENEZ                AD-646   \n",
       "1          25501  QUIMICA KEICEL SA DE CV  HRP/CRM/AD/0165/2023   \n",
       "2          25501  QUIMICA KEICEL SA DE CV  HRP/CRM/AD/0165/2023   \n",
       "\n",
       "  Fecha de inicio Fecha de fin Importe Unitario sin Impuestos Total Sin IVA  \\\n",
       "0      11/05/2023   29/06/2023                      $3,221.00    $48,315.00   \n",
       "1      15/05/2023   29/12/2023                            NaN           NaN   \n",
       "2      15/05/2023   29/12/2023                            NaN           NaN   \n",
       "\n",
       "  Total con IVA                                                uri  \\\n",
       "0    $56,045.40  https://upcp-compranet.hacienda.gob.mx/sitiopu...   \n",
       "1           NaN  https://upcp-compranet.hacienda.gob.mx/sitiopu...   \n",
       "2           NaN  https://upcp-compranet.hacienda.gob.mx/sitiopu...   \n",
       "\n",
       "  scrapped_day  \n",
       "0   27/07/2024  \n",
       "1   27/07/2024  \n",
       "2   27/07/2024  "
      ]
     },
     "execution_count": 19,
     "metadata": {},
     "output_type": "execute_result"
    }
   ],
   "source": [
    "df.head(3)"
   ]
  },
  {
   "cell_type": "code",
   "execution_count": 16,
   "metadata": {},
   "outputs": [],
   "source": [
    "pd.set_option('display.max_rows', 10)"
   ]
  },
  {
   "cell_type": "code",
   "execution_count": null,
   "metadata": {},
   "outputs": [],
   "source": [
    "df['Codigo del expediente'].value_counts()"
   ]
  },
  {
   "cell_type": "code",
   "execution_count": 23,
   "metadata": {},
   "outputs": [],
   "source": [
    "df[df['Dependencia'].str.startswith(\"Error\")].to_csv(\"prueba.csv\")"
   ]
  },
  {
   "cell_type": "code",
   "execution_count": 25,
   "metadata": {},
   "outputs": [
    {
     "data": {
      "text/plain": [
       "Dependencia\n",
       "Error::: Descripción detallada,Unidad de medida,Cantidad mínima,Cantidad máxima,Precio unitario sin impuestos,Monto total cantidad mínima,Monto total cantidad máxima    140\n",
       "Error::: Descripción detallada,Unidad de medida,Cantidad mínima,Cantidad máxima,,,                                                                                        30\n",
       "Error::: Descripción detallada,Unidad de medida,Precio unitario sin impuestos,Monto de la Oferta,IVA,Otros impuestos,Monto total de la oferta                             27\n",
       "Name: count, dtype: int64"
      ]
     },
     "execution_count": 25,
     "metadata": {},
     "output_type": "execute_result"
    }
   ],
   "source": [
    "df[df['Dependencia'].str.startswith(\"Error\")]['Dependencia'].value_counts()"
   ]
  }
 ],
 "metadata": {
  "kernelspec": {
   "display_name": ".venv",
   "language": "python",
   "name": "python3"
  },
  "language_info": {
   "codemirror_mode": {
    "name": "ipython",
    "version": 3
   },
   "file_extension": ".py",
   "mimetype": "text/x-python",
   "name": "python",
   "nbconvert_exporter": "python",
   "pygments_lexer": "ipython3",
   "version": "3.12.3"
  }
 },
 "nbformat": 4,
 "nbformat_minor": 2
}
