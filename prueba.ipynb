{
 "cells": [
  {
   "cell_type": "code",
   "execution_count": 1,
   "metadata": {},
   "outputs": [],
   "source": [
    "from selenium import webdriver\n",
    "from selenium.webdriver.common.by import By\n",
    "from selenium.webdriver.chrome.options import Options\n",
    "from selenium.webdriver.common.action_chains import ActionChains\n",
    "from selenium.common.exceptions import NoSuchElementException\n",
    "from selenium.webdriver.chrome.service import Service\n",
    "from webdriver_manager.chrome import ChromeDriverManager\n",
    "from selenium.common.exceptions import TimeoutException\n",
    "from selenium.webdriver.support import expected_conditions as EC\n",
    "from selenium.webdriver.support.ui import WebDriverWait\n",
    "from selenium.webdriver.common.keys import Keys\n",
    "import time"
   ]
  },
  {
   "cell_type": "code",
   "execution_count": 1,
   "metadata": {},
   "outputs": [],
   "source": [
    "import os"
   ]
  },
  {
   "cell_type": "code",
   "execution_count": null,
   "metadata": {},
   "outputs": [],
   "source": [
    "def download_wait(directory, timeout, nfiles=None):\n",
    "    \"\"\"\n",
    "    Wait for downloads to finish with a specified timeout.\n",
    "\n",
    "    Args\n",
    "    ----\n",
    "    directory : str\n",
    "        The path to the folder where the files will be downloaded.\n",
    "    timeout : int\n",
    "        How many seconds to wait until timing out.\n",
    "    nfiles : int, defaults to None\n",
    "        If provided, also wait for the expected number of files.\n",
    "\n",
    "    \"\"\"\n",
    "    seconds = 0\n",
    "    dl_wait = True\n",
    "    while dl_wait and seconds < timeout:\n",
    "        time.sleep(1)\n",
    "        dl_wait = False\n",
    "        files = os.listdir(directory)\n",
    "        if nfiles and len(files) != nfiles:\n",
    "            dl_wait = True\n",
    "\n",
    "        for fname in files:\n",
    "            if fname.endswith('.crdownload'):\n",
    "                dl_wait = True\n",
    "\n",
    "        seconds += 1\n",
    "    return seconds"
   ]
  },
  {
   "cell_type": "code",
   "execution_count": 4,
   "metadata": {},
   "outputs": [
    {
     "data": {
      "text/plain": [
       "1"
      ]
     },
     "execution_count": 4,
     "metadata": {},
     "output_type": "execute_result"
    }
   ],
   "source": [
    "\n",
    "len(os.listdir(\"./temp\"))"
   ]
  },
  {
   "cell_type": "code",
   "execution_count": 11,
   "metadata": {},
   "outputs": [],
   "source": [
    "options = webdriver.ChromeOptions()\n",
    "#options.add_argument('headless')\n",
    "#options.add_argument(\"--headless\")\n",
    "prefs = {'download.default_directory' : './temp/anexos/'}\n",
    "options.add_experimental_option('prefs', prefs)\n",
    "options.add_argument(\"--window-size=1024,768\")\n",
    "options.add_argument(\"--no-sandbox\")\n",
    "options.add_argument(\"start-maximized\")\n",
    "options.add_argument(\"--disable-infobars\")"
   ]
  },
  {
   "cell_type": "code",
   "execution_count": 12,
   "metadata": {},
   "outputs": [],
   "source": [
    "driver = webdriver.Chrome(options=options,\n",
    "            service=Service(executable_path=ChromeDriverManager().install()),\n",
    "        )"
   ]
  },
  {
   "cell_type": "code",
   "execution_count": 9,
   "metadata": {},
   "outputs": [],
   "source": [
    "driver.quit()"
   ]
  },
  {
   "cell_type": "code",
   "execution_count": 37,
   "metadata": {},
   "outputs": [],
   "source": [
    "driver.get(\"https://upcp-compranet.hacienda.gob.mx/sitiopublico/#/\")"
   ]
  },
  {
   "cell_type": "code",
   "execution_count": 14,
   "metadata": {},
   "outputs": [],
   "source": [
    "driver.find_element(By.XPATH,'//*[@name=\"proceso\"]').click()"
   ]
  },
  {
   "cell_type": "code",
   "execution_count": 15,
   "metadata": {},
   "outputs": [],
   "source": [
    "driver.find_element(By.XPATH,'//*[text()=\"PROCEDIMIENTO DE CONTRATACIÓN\"]').click()"
   ]
  },
  {
   "cell_type": "code",
   "execution_count": 16,
   "metadata": {},
   "outputs": [],
   "source": [
    "driver.find_element(By.XPATH,'//*[@name=\"ley\"]').click()"
   ]
  },
  {
   "cell_type": "code",
   "execution_count": 17,
   "metadata": {},
   "outputs": [],
   "source": [
    "driver.find_element(By.XPATH,'//*[contains(text(),\"LEY DE ADQUISICIONES\")]').click()"
   ]
  },
  {
   "cell_type": "code",
   "execution_count": 18,
   "metadata": {},
   "outputs": [],
   "source": [
    "driver.find_element(By.XPATH,'//*[@name=\"contratacion\"]').click()"
   ]
  },
  {
   "cell_type": "code",
   "execution_count": 19,
   "metadata": {},
   "outputs": [],
   "source": [
    "driver.find_element(By.XPATH,'//*[(text()=\"ADQUISICIONES\")]').click()"
   ]
  },
  {
   "cell_type": "code",
   "execution_count": 7,
   "metadata": {},
   "outputs": [],
   "source": [
    "click = lambda xpath: driver.find_element(By.XPATH, xpath).click()"
   ]
  },
  {
   "cell_type": "code",
   "execution_count": 21,
   "metadata": {},
   "outputs": [],
   "source": [
    "click('//*[@label=\"Filtros\"]/button')"
   ]
  },
  {
   "cell_type": "code",
   "execution_count": 22,
   "metadata": {},
   "outputs": [],
   "source": [
    "click('//*[@name=\"claves\"]')"
   ]
  },
  {
   "cell_type": "code",
   "execution_count": 23,
   "metadata": {},
   "outputs": [],
   "source": [
    "claves = [\"25401\",\"25301\",\"25501\",\"32401\",\"53101\",\"53201\"]"
   ]
  },
  {
   "cell_type": "code",
   "execution_count": 24,
   "metadata": {},
   "outputs": [],
   "source": [
    "for clave in claves:\n",
    "    driver.find_element(By.XPATH,'//p-multiselect[@name=\"claves\"]//input[contains(@class,\"filter\")]').send_keys(clave)\n",
    "    time.sleep(2)\n",
    "    \n",
    "    click(f'//*[contains(text(),\"{clave}\")]')\n",
    "    time.sleep(2)\n",
    "    \n",
    "    driver.find_element(By.XPATH,'//p-multiselect[@name=\"claves\"]//input[contains(@class,\"filter\")]').clear()\n",
    "    time.sleep(1)\n",
    "    "
   ]
  },
  {
   "cell_type": "code",
   "execution_count": 6,
   "metadata": {},
   "outputs": [
    {
     "ename": "NameError",
     "evalue": "name 'click' is not defined",
     "output_type": "error",
     "traceback": [
      "\u001b[1;31m---------------------------------------------------------------------------\u001b[0m",
      "\u001b[1;31mNameError\u001b[0m                                 Traceback (most recent call last)",
      "Cell \u001b[1;32mIn[6], line 1\u001b[0m\n\u001b[1;32m----> 1\u001b[0m \u001b[43mclick\u001b[49m(\u001b[38;5;124m'\u001b[39m\u001b[38;5;124m//span[text()=\u001b[39m\u001b[38;5;124m\"\u001b[39m\u001b[38;5;124mBuscar\u001b[39m\u001b[38;5;124m\"\u001b[39m\u001b[38;5;124m]\u001b[39m\u001b[38;5;124m'\u001b[39m)\n",
      "\u001b[1;31mNameError\u001b[0m: name 'click' is not defined"
     ]
    }
   ],
   "source": [
    "click('//span[text()=\"Buscar\"]')"
   ]
  },
  {
   "cell_type": "code",
   "execution_count": 26,
   "metadata": {},
   "outputs": [],
   "source": [
    "def esperar_carga_componenete(driver):\n",
    "    try:\n",
    "        WebDriverWait(driver, 5).until(EC.visibility_of_element_located((By.XPATH, '//div[@class=\"spinner\"]')))\n",
    "    except TimeoutException:\n",
    "        print(\"OJO, no apareció la leyenda de carga\")\n",
    "    try:\n",
    "        WebDriverWait(driver, 120).until(EC.invisibility_of_element_located((By.XPATH, '//div[@class=\"spinner\"]')))\n",
    "    except TimeoutException:\n",
    "        print(\"Error: No desaparece leyenda cargando\")\n",
    "    \n",
    "    time.sleep(1)"
   ]
  },
  {
   "cell_type": "code",
   "execution_count": 27,
   "metadata": {},
   "outputs": [
    {
     "name": "stdout",
     "output_type": "stream",
     "text": [
      "se encontraron 53 oportunidades en está página\n"
     ]
    }
   ],
   "source": [
    "rows = driver.find_elements(By.XPATH, '//td[@class=\"p-link2\"]')\n",
    "ops_found = len(rows)\n",
    "print(f\"se encontraron {ops_found} oportunidades en está página\")"
   ]
  },
  {
   "cell_type": "code",
   "execution_count": null,
   "metadata": {},
   "outputs": [],
   "source": [
    "rows = driver.find_elements(By.XPATH, '//td[@class=\"p-link2\"]')\n",
    "ops_found = len(rows)\n",
    "print(f\"se encontraron {ops_found} oportunidades en está página\")\n",
    "for i in range(0, ops_found):\n",
    "    rows = driver.find_elements(By.XPATH, '//td[@class=\"p-link2\"]')\n",
    "    rows[i].click()\n",
    "    esperar_carga_componenete(driver)\n",
    "\n",
    "    print(f\"Extrayendo inf de la oportunidad {i+1}\")\n",
    "    #Código del expediente\n",
    "    cod_exp = driver.find_element(By.XPATH, '//label[text()=\"Código del expediente:\"]/following-sibling::label').text\n",
    "    #Número de procedimiento de contratación\n",
    "    proc_cont = driver.find_element(By.XPATH, '//label[text()=\"Número de procedimiento de contratación:\"]/following-sibling::label').text\n",
    "    #Dependencia (SOLO TEXTO DESPUÉS DEL GUIÓN “-”)\n",
    "    dependencia = driver.find_element(By.XPATH, '//label[text()=\"Dependencia o Entidad:\"]/following-sibling::label').text\n",
    "    #Unidad Compradora (SOLO CÓDIGO IDENTIDICADOR)\n",
    "    unidad_comp = driver.find_element(By.XPATH, '//label[text()=\"Unidad compradora\"]/following-sibling::label').text\n",
    "    #Correo electrónico Unidad compradora\n",
    "    correo = driver.find_element(By.XPATH, '//label[text()=\"Correo electrónico unidad compradora:\"]/following-sibling::label').text\n",
    "    print(cod_exp,proc_cont, dependencia, unidad_comp, correo)\n",
    "    \n",
    "    break\n",
    "    driver.back()\n",
    "    esperar_carga_componenete(driver)\n"
   ]
  },
  {
   "cell_type": "code",
   "execution_count": 2,
   "metadata": {},
   "outputs": [],
   "source": [
    "options = webdriver.ChromeOptions()\n",
    "prefs = {\n",
    "    \"download.default_directory\": r\"C:\\Users\\juan-\\Desktop\\CNET Scrapping 2024\\temp\\anexos\",\n",
    "    \"download.directory_upgrade\": True,\n",
    "    \"download.prompt_for_download\": False,\n",
    "}\n",
    "options.add_experimental_option(\"prefs\", prefs)\n",
    "\n",
    "options.add_argument(\"--window-size=1024,768\")\n",
    "options.add_argument(\"--no-sandbox\")\n",
    "options.add_argument(\"start-maximized\")\n",
    "options.add_argument(\"--disable-infobars\")\n",
    "\n",
    "driver = webdriver.Chrome(options=options,\n",
    "            service=Service(executable_path=ChromeDriverManager().install()),\n",
    "        )"
   ]
  },
  {
   "cell_type": "code",
   "execution_count": 3,
   "metadata": {},
   "outputs": [],
   "source": [
    "driver.get(\"https://upcp-compranet.hacienda.gob.mx/sitiopublico/#/sitiopublico/detalle/1e90d8d1aea64d2ca428c26c5506f4a3/procedimiento\")"
   ]
  },
  {
   "cell_type": "code",
   "execution_count": 10,
   "metadata": {},
   "outputs": [],
   "source": [
    "click('//*[text()=\"Anuncios concluidos\"]')"
   ]
  },
  {
   "cell_type": "code",
   "execution_count": 4,
   "metadata": {},
   "outputs": [],
   "source": [
    "anexos = driver.find_elements(By.XPATH,'//*[@ptooltip=\"Descargar archivo\"]')\n",
    "anexos[0].click()"
   ]
  },
  {
   "cell_type": "code",
   "execution_count": 23,
   "metadata": {},
   "outputs": [],
   "source": [
    "anexos[0].click()"
   ]
  },
  {
   "cell_type": "code",
   "execution_count": 29,
   "metadata": {},
   "outputs": [],
   "source": [
    "driver.refresh()"
   ]
  },
  {
   "cell_type": "code",
   "execution_count": 5,
   "metadata": {},
   "outputs": [],
   "source": [
    "driver.close()"
   ]
  }
 ],
 "metadata": {
  "kernelspec": {
   "display_name": ".venv",
   "language": "python",
   "name": "python3"
  },
  "language_info": {
   "codemirror_mode": {
    "name": "ipython",
    "version": 3
   },
   "file_extension": ".py",
   "mimetype": "text/x-python",
   "name": "python",
   "nbconvert_exporter": "python",
   "pygments_lexer": "ipython3",
   "version": "3.12.3"
  }
 },
 "nbformat": 4,
 "nbformat_minor": 2
}
